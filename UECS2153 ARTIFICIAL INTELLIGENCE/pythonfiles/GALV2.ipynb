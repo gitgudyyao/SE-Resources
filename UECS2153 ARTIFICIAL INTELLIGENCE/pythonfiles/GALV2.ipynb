{
 "cells": [
  {
   "cell_type": "markdown",
   "metadata": {},
   "source": [
    "# Genetic Algorithm Lab"
   ]
  },
  {
   "cell_type": "markdown",
   "metadata": {},
   "source": [
    "This notebook is meant to guide you in your first full program for the Artificial Intelligence course. Instructions and convenience classes are prepared for you, but you will need to fill in various code cells in order for the notebook to be fully-functioning. These code cells are marked with #TODO comments. Feel free to modify any other code in this notebook as well. In particular, wherever you see #SUGGESTION comments, you may want to explore alternatives (not compulsory).\n",
    "\n",
    "The problem to be solved in this lab is the Travelling Salesman Problem. More details on this problem are provided in your lab sheet."
   ]
  },
  {
   "cell_type": "markdown",
   "metadata": {},
   "source": [
    "## Imports"
   ]
  },
  {
   "cell_type": "code",
   "execution_count": null,
   "metadata": {},
   "outputs": [],
   "source": [
    "%matplotlib inline\n",
    "# Put the imports you need here\n",
    "import numpy as np\n",
    "import pandas as pd\n",
    "import matplotlib.pyplot as plt\n",
    "import random\n",
    "import time\n",
    "import csv\n",
    "from pprint import pprint as print # pretty printing, easier to read but takes more room"
   ]
  },
  {
   "cell_type": "markdown",
   "metadata": {},
   "source": [
    "## Convenience Classes\n",
    "\n",
    "The 'City' class allows us to easily measure distance between cities. A list of cities is called a route, and will be our chromosome for this genetic algorithm."
   ]
  },
  {
   "cell_type": "code",
   "execution_count": null,
   "metadata": {},
   "outputs": [],
   "source": [
    "class City:\n",
    "    def __init__(self, x, y):\n",
    "        self.x = x\n",
    "        self.y = y\n",
    "        \n",
    "    def distance(self, city):\n",
    "        xDis = abs(self.x - city.x)\n",
    "        yDis = abs(self.y - city.y)\n",
    "        distance = np.sqrt((xDis ** 2) + (yDis ** 2))\n",
    "        #SUGGESTION - What if we wanted to use a different distance\n",
    "        # metric? Would that make sense for this problem?\n",
    "        return distance\n",
    "    \n",
    "    def __repr__(self):\n",
    "        return \"(\" + str(self.x) + \",\" + str(self.y) + \")\""
   ]
  },
  {
   "cell_type": "markdown",
   "metadata": {},
   "source": [
    "The 'Fitness' class helps to calculate both the distance and the fitness of a route (list of City instances)."
   ]
  },
  {
   "cell_type": "code",
   "execution_count": null,
   "metadata": {},
   "outputs": [],
   "source": [
    "class Fitness:\n",
    "    def __init__(self, route):\n",
    "        self.route = route\n",
    "        self.distance = None\n",
    "        self.fitness = None\n",
    "    \n",
    "    def routeDistance(self):\n",
    "        if self.distance == None:\n",
    "            pathDistance = 0.0\n",
    "            for i in range(0, len(self.route)):\n",
    "                fromCity = self.route[i]\n",
    "                toCity = None\n",
    "                if i+1 < len(self.route):\n",
    "                    toCity = self.route[i+1]\n",
    "                else:\n",
    "                    toCity = self.route[0]\n",
    "                pathDistance += fromCity.distance(toCity)\n",
    "            self.distance = pathDistance\n",
    "        return self.distance\n",
    "    \n",
    "    def routeFitness(self):\n",
    "        if self.fitness == None:\n",
    "            self.fitness = 1 / float(self.routeDistance())\n",
    "            #SUGGESTION - Is the scaling an issue with this method\n",
    "            # of defining fitness? Would negative distance make more\n",
    "            # sense (obviously with properly defined selection functions)\n",
    "        return self.fitness"
   ]
  },
  {
   "cell_type": "markdown",
   "metadata": {},
   "source": [
    "## Initialization Step\n",
    "\n",
    "Initialization starts with a large **population** of randomly generated chromosomes. We will use 3 functions. The first one generates a list of cities from a file."
   ]
  },
  {
   "cell_type": "code",
   "execution_count": null,
   "metadata": {},
   "outputs": [],
   "source": [
    "def genCityList(filename):\n",
    "    cityList = []\n",
    "    #TODO - implement this function by replacing the code between the TODO lines\n",
    "    for i in range(0,12):\n",
    "        cityList.append(City(x=int(random.random() * 200),\n",
    "                             y=int(random.random() * 200)))\n",
    "    #TODO - the code above just generates 12 cities (useful for testing)\n",
    "    return cityList"
   ]
  },
  {
   "cell_type": "markdown",
   "metadata": {},
   "source": [
    "The second function generates a random route (chromosome) from a list of City instances."
   ]
  },
  {
   "cell_type": "code",
   "execution_count": null,
   "metadata": {},
   "outputs": [],
   "source": [
    "def createRoute(cityList):\n",
    "    route = random.sample(cityList, len(cityList))\n",
    "    return route"
   ]
  },
  {
   "cell_type": "markdown",
   "metadata": {},
   "source": [
    "The third function repeatedly calls the second function to create an initial population (list of routes)."
   ]
  },
  {
   "cell_type": "code",
   "execution_count": null,
   "metadata": {},
   "outputs": [],
   "source": [
    "def initialPopulation(popSize, cityList):\n",
    "    population = []\n",
    "    for i in range(0, popSize):\n",
    "        population.append(createRoute(cityList))\n",
    "    #SUGGESTION - Could population be 'seeded' with known good routes?\n",
    "    # In other words, would heuristic initialization help?\n",
    "    return population"
   ]
  },
  {
   "cell_type": "markdown",
   "metadata": {},
   "source": [
    "The cells below are set to have Markdown type, even though they contain python code. You should change their type and run them to test the functions you've created in this section. You can always change any cell's type to Markdown to 'disable' it from running with everything else."
   ]
  },
  {
   "cell_type": "markdown",
   "metadata": {},
   "source": [
    "cityList = genCityList('tsp-case00.txt')\n",
    "print(cityList)"
   ]
  },
  {
   "cell_type": "markdown",
   "metadata": {},
   "source": [
    "cityList = genCityList('tsp-case01.txt')\n",
    "population = initialPopulation(3, cityList)\n",
    "print(population)"
   ]
  },
  {
   "cell_type": "markdown",
   "metadata": {},
   "source": [
    "## Selection\n",
    "\n",
    "Parent selection is the primary form of selection, and is used to create a mating pool."
   ]
  },
  {
   "cell_type": "code",
   "execution_count": null,
   "metadata": {},
   "outputs": [],
   "source": [
    "def parentSelection(population, poolSize=None):\n",
    "    \"\"\"\n",
    "    Note that this function returns only poolSize City instances. This\n",
    "    is useful if we are doing survivorSelection as well, otherwise we\n",
    "    can just set poolSize = len(population).\n",
    "    \"\"\"\n",
    "    \n",
    "    if poolSize == None:\n",
    "        poolSize = len(population)\n",
    "        \n",
    "    matingPool = []\n",
    "    \n",
    "    #TODO - implement this function by replacing the code between the TODO lines\n",
    "    for i in range(0, poolSize):\n",
    "        fitness = Fitness(population[i]).routeFitness()\n",
    "        matingPool.append(random.choice(population))\n",
    "    #TODO - the code above just randomly selects a parent. Replace\n",
    "    # it with code which implements one of the parent selection\n",
    "    # strategies mentioned in the lecture.\n",
    "    \n",
    "    return matingPool"
   ]
  },
  {
   "cell_type": "code",
   "execution_count": null,
   "metadata": {},
   "outputs": [],
   "source": [
    "def parentSelection(population, poolSize=None):\n",
    "    \"\"\"\n",
    "    You can choose to run this cell or the previous one in order to\n",
    "    'select' a crossover method. You can also add more cells.\n",
    "    \"\"\"\n",
    "    \n",
    "    if poolSize == None:\n",
    "        poolSize = len(population)\n",
    "        \n",
    "    matingPool = []\n",
    "    \n",
    "    #TODO - implement this function by replacing the code between the TODO lines\n",
    "    matingPool = population[0:poolSize]\n",
    "    #TODO - the code above just selects the first N City instances.\n",
    "    # Replace it with code which implements one of the parent selection\n",
    "    # strategies mentioned in the lecture.\n",
    "    \n",
    "    return matingPool"
   ]
  },
  {
   "cell_type": "markdown",
   "metadata": {},
   "source": [
    "Another form of selection is survivor selection, which is used to ensure certain individuals (normally high fitness ones) survive to the next generation."
   ]
  },
  {
   "cell_type": "code",
   "execution_count": null,
   "metadata": {},
   "outputs": [],
   "source": [
    "def survivorSelection(population, eliteSize):\n",
    "    \"\"\"\n",
    "    This function returns a list of length eliteSize (the selected\n",
    "    City instances which will be preserved)\n",
    "    \"\"\"\n",
    "    \n",
    "    elites = []\n",
    "    \n",
    "    #TODO - implement this function by replacing the code between the TODO lines\n",
    "    for i in range(eliteSize):\n",
    "        elites.append(population[i])\n",
    "    #TODO - the code above just selects the first eliteSize City instances.\n",
    "    # Replace it with code which selects the best individuals\n",
    "    #SUGGESTION - age-based survivor selection isn't trivial to implement\n",
    "    # based on this notebook, as you would need to make changes to how\n",
    "    # the chromosomes are stored. Consider it a fun challenge (not\n",
    "    # required, no bonus marks) for those who find this lab too easy.\n",
    "    \n",
    "    return elites"
   ]
  },
  {
   "cell_type": "markdown",
   "metadata": {},
   "source": [
    "The cells below are set to have Markdown type, even though they contain python code. You should change their type and run them to test the functions you've created in this section. You can always change any cell's type to Markdown to 'disable' it from running with everything else."
   ]
  },
  {
   "cell_type": "markdown",
   "metadata": {},
   "source": [
    "population = initialPopulation(4, genCityList('tsp-case00.txt'))\n",
    "matingpool = parentSelection(population, 3)\n",
    "print('Initial population')\n",
    "print(population)\n",
    "print('Mating pool')\n",
    "print(matingpool)"
   ]
  },
  {
   "cell_type": "markdown",
   "metadata": {},
   "source": [
    "population = initialPopulation(4, genCityList('tsp-case00.txt'))\n",
    "elites = survivorSelection(population, 1)\n",
    "print('Initial population')\n",
    "print(population)\n",
    "print('Selected elites')\n",
    "print(elites)"
   ]
  },
  {
   "cell_type": "markdown",
   "metadata": {},
   "source": [
    "## Crossover\n",
    "\n",
    "The crossover function combines two parents in such a way that their children inherit some of each parent's characteristics. In the case of TSP, you will need to use crossover methods such as Davis' Order Crossover (other examples are listed in the lecture slides)."
   ]
  },
  {
   "cell_type": "code",
   "execution_count": null,
   "metadata": {},
   "outputs": [],
   "source": [
    "def crossover(parent1, parent2):\n",
    "    \"\"\"\n",
    "    Note that this function returns TWO routes. Some crossover methods\n",
    "    may only generate one child, in that case run the algorithm twice\n",
    "    \"\"\"\n",
    "    \n",
    "    #TODO - implement this function by replacing the code between the TODO lines\n",
    "    child1 = parent1\n",
    "    child2 = parent2\n",
    "    #TODO - the code above simply returns the parents (no change). Replace\n",
    "    # it with code which implements a suitable crossover method.\n",
    "    \n",
    "    return child1, child2"
   ]
  },
  {
   "cell_type": "code",
   "execution_count": null,
   "metadata": {},
   "outputs": [],
   "source": [
    "def crossover(parent1, parent2):\n",
    "    \"\"\"\n",
    "    You can choose to run this cell or the previous one in order to\n",
    "    'select' a crossover method. You can also add more cells.\n",
    "    \"\"\"\n",
    "    \n",
    "    #TODO - implement this function by replacing the code between the TODO lines\n",
    "    child1 = createRoute(parent1)\n",
    "    child2 = createRoute(parent2)\n",
    "    #TODO - the code above simply generates new random routes.\n",
    "    # Replace it with code which implements a suitable crossover method.\n",
    "    \n",
    "    return child1, child2"
   ]
  },
  {
   "cell_type": "markdown",
   "metadata": {},
   "source": [
    "Crossover should be run on pairs from the mating pool to produce a new generation (of the same size)."
   ]
  },
  {
   "cell_type": "code",
   "execution_count": null,
   "metadata": {},
   "outputs": [],
   "source": [
    "def breedPopulation(matingpool):\n",
    "    children = []\n",
    "    \n",
    "    for i in range(1, len(matingpool), 2):\n",
    "        child1, child2 = crossover(matingpool[i-1], matingpool[i])\n",
    "        children.append(child1)\n",
    "        children.append(child2)\n",
    "    #SUGGESTION - would randomly choosing parents from matingpool make\n",
    "    # a difference compared to just choosing them in order? Wouldn't be\n",
    "    # too hard to test that, would it?\n",
    "    \n",
    "    return children"
   ]
  },
  {
   "cell_type": "markdown",
   "metadata": {},
   "source": [
    "The cells below are set to have Markdown type, even though they contain python code. You should change their type and run them to test the functions you've created in this section. You can always change any cell's type to Markdown to 'disable' it from running with everything else."
   ]
  },
  {
   "cell_type": "markdown",
   "metadata": {},
   "source": [
    "population = initialPopulation(2, genCityList('tsp-case00.txt'))\n",
    "parent1, parent2 = population\n",
    "child1, child2 = crossover(parent1, parent2)\n",
    "print('Parents')\n",
    "print(parent1)\n",
    "print(parent2)\n",
    "print('Children')\n",
    "print(child1)\n",
    "print(child2)"
   ]
  },
  {
   "cell_type": "markdown",
   "metadata": {},
   "source": [
    "## Mutation\n",
    "\n",
    "Mutations are small random changes which maintain/introduce diversity. By necessity, mutations must occur at low probability and avoid changing everything in a chromosome. As with crossover, mutation in TSP must respect the constraint that every City occurs exactly once in the Route."
   ]
  },
  {
   "cell_type": "code",
   "execution_count": null,
   "metadata": {},
   "outputs": [],
   "source": [
    "def mutate(route, mutationProbability):\n",
    "    \"\"\"\n",
    "    mutationProbability is the probability that any one City instance\n",
    "    will undergo mutation\n",
    "    \"\"\"\n",
    "    mutated_route = route[:]\n",
    "    for i in range(len(route)):\n",
    "        if (random.random() < mutationProbability):\n",
    "            #TODO - implement this function by replacing the code between\n",
    "            # the TODO lines\n",
    "            city1 = route[i]\n",
    "            city2 = route[i-1]\n",
    "            mutated_route[i] = city2\n",
    "            mutated_route[i-1] = city1\n",
    "            #TODO - the code above simply swaps a city with the city\n",
    "            # before it. This isn't really a good idea, replace it with\n",
    "            # code which implements a better mutation method\n",
    "\n",
    "    return mutated_route"
   ]
  },
  {
   "cell_type": "code",
   "execution_count": null,
   "metadata": {},
   "outputs": [],
   "source": [
    "def mutate(route, mutationProbability):\n",
    "    \"\"\"\n",
    "    You can choose to run this cell or the previous one in order to\n",
    "    'select' a mutate method. You can also add more cells.\n",
    "    \"\"\"\n",
    "    mutated_route = route[:]\n",
    "    for i in range(len(route)):\n",
    "        if (random.random() < mutationProbability):\n",
    "            #TODO - implement this function by replacing the code between\n",
    "            # the TODO lines\n",
    "            city1 = route[i]\n",
    "            city2 = route[0]\n",
    "            mutated_route[i] = city2\n",
    "            mutated_route[0] = city1\n",
    "            #TODO - the code above simply swaps the city with the first\n",
    "            # city. This isn't really a good idea, replace it with\n",
    "            # code which implements a better mutation method\n",
    "\n",
    "    return mutated_route"
   ]
  },
  {
   "cell_type": "markdown",
   "metadata": {},
   "source": [
    "The mutate function needs to be run over the entire population, obviously."
   ]
  },
  {
   "cell_type": "code",
   "execution_count": null,
   "metadata": {},
   "outputs": [],
   "source": [
    "def mutation(population, mutationProbability):\n",
    "    mutatedPopulation = []\n",
    "    for i in range(0, len(population)):\n",
    "        mutatedIndividual = mutate(population[i], mutationProbability)\n",
    "        mutatedPopulation.append(mutatedIndividual)\n",
    "    return mutatedPopulation"
   ]
  },
  {
   "cell_type": "markdown",
   "metadata": {},
   "source": [
    "The cells below are set to have Markdown type, even though they contain python code. You should change their type and run them to test the functions you've created in this section. You can always change any cell's type to Markdown to 'disable' it from running with everything else."
   ]
  },
  {
   "cell_type": "markdown",
   "metadata": {},
   "source": [
    "route = genCityList('tsp-case00.txt')\n",
    "mutated = mutate(route, 1)  # Give a pretty high chance for mutation\n",
    "print('Original route')\n",
    "print(route)\n",
    "print('Mutated route')\n",
    "print(mutated)"
   ]
  },
  {
   "cell_type": "markdown",
   "metadata": {},
   "source": [
    "## Running One Generation\n",
    "\n",
    "Now that we have (almost) all our component functions in place, let's call them altogether."
   ]
  },
  {
   "cell_type": "code",
   "execution_count": null,
   "metadata": {},
   "outputs": [],
   "source": [
    "def oneGeneration(population, eliteSize, mutationProbability):\n",
    "    \n",
    "    # First we preserve the elites\n",
    "    elites = survivorSelection(population, eliteSize)\n",
    "    \n",
    "    # Then we calculate what our mating pool size should be and generate\n",
    "    # the mating pool\n",
    "    poolSize = len(population) - eliteSize\n",
    "    matingpool = parentSelection(population, poolSize)\n",
    "    #SUGGESTION - What if the elites were removed from the mating pool?\n",
    "    # Would that help or hurt the genetic algorithm? How would that affect\n",
    "    # diversity? How would that affect performance/convergence?\n",
    "    \n",
    "    # Then we perform crossover on the mating pool\n",
    "    children = breedPopulation(matingpool)\n",
    "    \n",
    "    # We combine the elites and children into one population\n",
    "    new_population = elites + children\n",
    "    \n",
    "    # We mutate the population\n",
    "    mutated_population = mutation(new_population, mutationProbability)\n",
    "    #SUGGESTION - If we do mutation before selection and breeding, does\n",
    "    # it make any difference?\n",
    "    \n",
    "    return mutated_population"
   ]
  },
  {
   "cell_type": "markdown",
   "metadata": {},
   "source": [
    "The cells below are set to have Markdown type, even though they contain python code. You should change their type and run them to test the functions you've created in this section. You can always change any cell's type to Markdown to 'disable' it from running with everything else."
   ]
  },
  {
   "cell_type": "markdown",
   "metadata": {},
   "source": [
    "population = initialPopulation(5, genCityList('tsp-case00.txt'))\n",
    "eliteSize = 1\n",
    "mutationProbability = 0.01\n",
    "new_population = oneGeneration(population, eliteSize, mutationProbability)\n",
    "print('Initial population')\n",
    "print(population)\n",
    "print('New population')\n",
    "print(new_population)"
   ]
  },
  {
   "cell_type": "markdown",
   "metadata": {},
   "source": [
    "## Running Genetic Algorithm\n",
    "\n",
    "The entire genetic algorithm needs to initialize a Route of City instances, then iteratively generate new generations. Take note that, unlike all the cells above, the cell below is NOT a function. Various parameters are set right at the top (you should set them to something reasonable)."
   ]
  },
  {
   "cell_type": "code",
   "execution_count": null,
   "metadata": {},
   "outputs": [],
   "source": [
    "start_time = time.time()\n",
    "filename = 'tsp-case03.txt'\n",
    "popSize = 20\n",
    "eliteSize = 5\n",
    "mutationProbability = 0.01\n",
    "iteration_limit = 100\n",
    "\n",
    "cityList = genCityList(filename)\n",
    "\n",
    "population = initialPopulation(popSize, cityList)\n",
    "distances = [Fitness(p).routeDistance() for p in population]\n",
    "min_dist = min(distances)\n",
    "print(\"Best distance for initial population: \" + str(min_dist))\n",
    "\n",
    "for i in range(iteration_limit):\n",
    "    population = oneGeneration(population, eliteSize, mutationProbability)\n",
    "    distances = [Fitness(p).routeDistance() for p in population]\n",
    "    min_dist = min(distances)\n",
    "    print(\"Best distance for population in iteration \" + str(i) +\n",
    "          \": \" + str(min_dist))\n",
    "    #TODO - Perhaps we should save the best distance (or the route itself)\n",
    "    # for plotting? A plot may be better at demonstrating performance over\n",
    "    # iterations.\n",
    "    #SUGGESTION - You could also print/plot the N best routes per\n",
    "    # iteration, would this give more insight into what's happening?\n",
    "    #SUGGESTION - The suggested code in this cell stops when a specific\n",
    "    # number of iterations are reached. Would it help to implement\n",
    "    # a different stopping criterion (e.g. best fitness no longer\n",
    "    # improving)?\n",
    "\n",
    "end_time = time.time()\n",
    "print(\"Time taken: {} s\".format(end_time-start_time))"
   ]
  },
  {
   "cell_type": "markdown",
   "metadata": {},
   "source": [
    "## Saving the final solution\n",
    "\n",
    "Once you have completed the lab, you will have to save the final solution to a CSV file for verification. Note that any cheating (identical CSV files, reporting wrong total distances, or modifying coordinates) will result in zero marks awarded for this lab."
   ]
  },
  {
   "cell_type": "code",
   "execution_count": null,
   "metadata": {},
   "outputs": [],
   "source": [
    "filename = 'mysolution.csv'\n",
    "distances = [Fitness(p).routeDistance() for p in population]\n",
    "index = np.argmin(distances)\n",
    "best_route = population[index]\n",
    "with open(filename, mode='w') as f:\n",
    "    writer = csv.writer(f, delimiter=' ', quotechar='\"', quoting=csv.QUOTE_MINIMAL)\n",
    "    for i in range(len(best_route)):\n",
    "        writer.writerow([i, best_route[i].x, best_route[i].y])"
   ]
  }
 ],
 "metadata": {
  "kernelspec": {
   "display_name": "Python 3",
   "language": "python",
   "name": "python3"
  },
  "language_info": {
   "codemirror_mode": {
    "name": "ipython",
    "version": 3
   },
   "file_extension": ".py",
   "mimetype": "text/x-python",
   "name": "python",
   "nbconvert_exporter": "python",
   "pygments_lexer": "ipython3",
   "version": "3.7.3"
  }
 },
 "nbformat": 4,
 "nbformat_minor": 2
}
