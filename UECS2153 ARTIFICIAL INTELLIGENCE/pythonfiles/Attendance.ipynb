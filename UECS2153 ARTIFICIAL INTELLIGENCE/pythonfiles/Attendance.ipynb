{
 "cells": [
  {
   "cell_type": "code",
   "execution_count": null,
   "metadata": {},
   "outputs": [],
   "source": [
    "import random\n",
    "import pandas as pd\n",
    "from pprint import pprint\n",
    "\n",
    "subj_name = 'AI'\n",
    "first_run = True"
   ]
  },
  {
   "cell_type": "code",
   "execution_count": null,
   "metadata": {},
   "outputs": [],
   "source": [
    "if first_run:\n",
    "    filename = subj_name + \".csv\"\n",
    "    col_names = [\"ID\", \"Name\", \"Weight\"]\n",
    "    df = pd.read_csv(filename, header=None, names=col_names, index_col=0)\n",
    "    present = pd.DataFrame(columns=df.columns)\n",
    "    absent = pd.DataFrame(columns=df.columns)\n",
    "    first_run = False"
   ]
  },
  {
   "cell_type": "code",
   "execution_count": null,
   "metadata": {
    "scrolled": true
   },
   "outputs": [],
   "source": [
    "student = df.sample(weights=df.Weight)\n",
    "pprint(student)"
   ]
  },
  {
   "cell_type": "code",
   "execution_count": null,
   "metadata": {},
   "outputs": [],
   "source": [
    "present = present.append(student)\n",
    "df.drop(student.index, inplace=True)\n",
    "pprint(present)"
   ]
  },
  {
   "cell_type": "code",
   "execution_count": null,
   "metadata": {},
   "outputs": [],
   "source": [
    "absent = absent.append(student)\n",
    "df.drop(student.index, inplace=True)\n",
    "pprint(absent)"
   ]
  },
  {
   "cell_type": "code",
   "execution_count": null,
   "metadata": {},
   "outputs": [],
   "source": [
    "df = df.append(present).append(absent)\n",
    "for i in present.index:\n",
    "    df.at[i, 'Weight'] = df.at[i, 'Weight']*0.8\n",
    "for i in absent.index:\n",
    "    df.at[i, 'Weight'] = df.at[i, 'Weight']*3\n",
    "df.sort_index(inplace=True)\n",
    "df.to_csv('AI_after_class.csv', header=None)"
   ]
  }
 ],
 "metadata": {
  "kernelspec": {
   "display_name": "Python 3",
   "language": "python",
   "name": "python3"
  },
  "language_info": {
   "codemirror_mode": {
    "name": "ipython",
    "version": 3
   },
   "file_extension": ".py",
   "mimetype": "text/x-python",
   "name": "python",
   "nbconvert_exporter": "python",
   "pygments_lexer": "ipython3",
   "version": "3.7.3"
  }
 },
 "nbformat": 4,
 "nbformat_minor": 2
}
