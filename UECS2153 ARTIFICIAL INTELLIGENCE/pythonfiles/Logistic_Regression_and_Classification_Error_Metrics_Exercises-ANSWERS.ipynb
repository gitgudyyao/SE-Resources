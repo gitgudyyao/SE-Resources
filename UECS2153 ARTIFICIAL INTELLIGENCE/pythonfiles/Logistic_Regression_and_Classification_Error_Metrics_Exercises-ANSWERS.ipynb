{
 "cells": [
  {
   "cell_type": "markdown",
   "metadata": {
    "run_control": {
     "marked": true
    }
   },
   "source": [
    "# Logistic Regression and Classification Error Metrics"
   ]
  },
  {
   "cell_type": "markdown",
   "metadata": {
    "run_control": {
     "marked": true
    }
   },
   "source": [
    "## Introduction\n",
    "\n",
    "We will be using the [Human Activity Recognition with Smartphones](https://archive.ics.uci.edu/ml/datasets/Human+Activity+Recognition+Using+Smartphones) database, which was built from the recordings of study participants performing activities of daily living (ADL) while carrying a smartphone with an embedded inertial sensors. The objective is to classify activities into one of the six activities (walking, walking upstairs, walking downstairs, sitting, standing, and laying) performed.\n",
    "\n",
    "For each record in the dataset it is provided: \n",
    "\n",
    "- Triaxial acceleration from the accelerometer (total acceleration) and the estimated body acceleration. \n",
    "- Triaxial Angular velocity from the gyroscope. \n",
    "- A 561-feature vector with time and frequency domain variables. \n",
    "- Its activity label. \n",
    "\n",
    "More information about the features is available on the website above."
   ]
  },
  {
   "cell_type": "code",
   "execution_count": 1,
   "metadata": {
    "collapsed": true,
    "run_control": {
     "marked": true
    }
   },
   "outputs": [],
   "source": [
    "from __future__ import print_function\n",
    "import os\n",
    "data_path = ['..', '..', 'data']"
   ]
  },
  {
   "cell_type": "markdown",
   "metadata": {
    "run_control": {
     "marked": true
    }
   },
   "source": [
    "## Question 1\n",
    "\n",
    "Import the data and do the following:\n",
    "\n",
    "* Examine the data types--there are many columns, so it might be wise to use value counts\n",
    "* Determine if the floating point values need to be scaled\n",
    "* Determine the breakdown of each activity\n",
    "* Encode the activity label as an integer"
   ]
  },
  {
   "cell_type": "code",
   "execution_count": 2,
   "metadata": {
    "collapsed": false,
    "run_control": {
     "marked": true
    }
   },
   "outputs": [],
   "source": [
    "import pandas as pd\n",
    "import numpy as np\n",
    "\n",
    "filepath = os.sep.join(data_path + ['Human_Activity_Recognition_Using_Smartphones_Data.csv'])\n",
    "data = pd.read_csv(filepath, sep=',')"
   ]
  },
  {
   "cell_type": "markdown",
   "metadata": {
    "run_control": {
     "marked": true
    }
   },
   "source": [
    "The data columns are all floats except for the activity label."
   ]
  },
  {
   "cell_type": "code",
   "execution_count": 3,
   "metadata": {
    "collapsed": false,
    "run_control": {
     "marked": true
    }
   },
   "outputs": [
    {
     "data": {
      "text/plain": [
       "float64    561\n",
       "object       1\n",
       "dtype: int64"
      ]
     },
     "execution_count": 3,
     "metadata": {},
     "output_type": "execute_result"
    }
   ],
   "source": [
    "data.dtypes.value_counts()"
   ]
  },
  {
   "cell_type": "code",
   "execution_count": 4,
   "metadata": {
    "collapsed": false,
    "run_control": {
     "marked": true
    }
   },
   "outputs": [
    {
     "data": {
      "text/plain": [
       "angle(tBodyGyroJerkMean,gravityMean)    float64\n",
       "angle(X,gravityMean)                    float64\n",
       "angle(Y,gravityMean)                    float64\n",
       "angle(Z,gravityMean)                    float64\n",
       "Activity                                 object\n",
       "dtype: object"
      ]
     },
     "execution_count": 4,
     "metadata": {},
     "output_type": "execute_result"
    }
   ],
   "source": [
    "data.dtypes.tail()"
   ]
  },
  {
   "cell_type": "markdown",
   "metadata": {
    "run_control": {
     "marked": true
    }
   },
   "source": [
    "The data are all scaled from -1 (minimum) to 1.0 (maximum)."
   ]
  },
  {
   "cell_type": "code",
   "execution_count": 5,
   "metadata": {
    "collapsed": false,
    "run_control": {
     "marked": true
    }
   },
   "outputs": [
    {
     "data": {
      "text/plain": [
       "-1.0    561\n",
       "dtype: int64"
      ]
     },
     "execution_count": 5,
     "metadata": {},
     "output_type": "execute_result"
    }
   ],
   "source": [
    "data.iloc[:, :-1].min().value_counts()"
   ]
  },
  {
   "cell_type": "code",
   "execution_count": 6,
   "metadata": {
    "collapsed": false,
    "run_control": {
     "marked": true
    }
   },
   "outputs": [
    {
     "data": {
      "text/plain": [
       "1.0    561\n",
       "dtype: int64"
      ]
     },
     "execution_count": 6,
     "metadata": {},
     "output_type": "execute_result"
    }
   ],
   "source": [
    "data.iloc[:, :-1].max().value_counts()"
   ]
  },
  {
   "cell_type": "markdown",
   "metadata": {},
   "source": [
    "Examine the breakdown of activities--they are relatively balanced."
   ]
  },
  {
   "cell_type": "code",
   "execution_count": 7,
   "metadata": {
    "collapsed": false
   },
   "outputs": [
    {
     "data": {
      "text/plain": [
       "LAYING                1944\n",
       "STANDING              1906\n",
       "SITTING               1777\n",
       "WALKING               1722\n",
       "WALKING_UPSTAIRS      1544\n",
       "WALKING_DOWNSTAIRS    1406\n",
       "Name: Activity, dtype: int64"
      ]
     },
     "execution_count": 7,
     "metadata": {},
     "output_type": "execute_result"
    }
   ],
   "source": [
    "data.Activity.value_counts()"
   ]
  },
  {
   "cell_type": "markdown",
   "metadata": {},
   "source": [
    "Scikit learn classifiers won't accept a sparse matrix for the prediction column. Thus, either `LabelEncoder` needs to be used to convert the activity labels to integers, or if `DictVectorizer` is used, the resulting matrix must be converted to a non-sparse array.  \n",
    "Use `LabelEncoder` to fit_transform the \"Activity\" column, and look at 5 random values."
   ]
  },
  {
   "cell_type": "code",
   "execution_count": 8,
   "metadata": {
    "collapsed": false
   },
   "outputs": [
    {
     "data": {
      "text/plain": [
       "5722    1\n",
       "8124    2\n",
       "2457    0\n",
       "5886    2\n",
       "7078    3\n",
       "Name: Activity, dtype: int64"
      ]
     },
     "execution_count": 8,
     "metadata": {},
     "output_type": "execute_result"
    }
   ],
   "source": [
    "from sklearn.preprocessing import LabelEncoder\n",
    "\n",
    "le = LabelEncoder()\n",
    "data['Activity'] = le.fit_transform(data.Activity)\n",
    "data['Activity'].sample(5)"
   ]
  },
  {
   "cell_type": "markdown",
   "metadata": {},
   "source": [
    "## Question 2\n",
    "\n",
    "* Calculate the correlations between the dependent variables.\n",
    "* Create a histogram of the correlation values\n",
    "* Identify those that are most correlated (either positively or negatively)."
   ]
  },
  {
   "cell_type": "code",
   "execution_count": 9,
   "metadata": {
    "collapsed": true
   },
   "outputs": [],
   "source": [
    "# Calculate the correlation values\n",
    "feature_cols = data.columns[:-1]\n",
    "corr_values = data[feature_cols].corr()\n",
    "\n",
    "# Simplify by emptying all the data below the diagonal\n",
    "tril_index = np.tril_indices_from(corr_values)\n",
    "\n",
    "# Make the unused values NaNs\n",
    "for coord in zip(*tril_index):\n",
    "    corr_values.iloc[coord[0], coord[1]] = np.NaN\n",
    "    \n",
    "# Stack the data and convert to a data frame\n",
    "corr_values = (corr_values\n",
    "               .stack()\n",
    "               .to_frame()\n",
    "               .reset_index()\n",
    "               .rename(columns={'level_0':'feature1',\n",
    "                                'level_1':'feature2',\n",
    "                                0:'correlation'}))\n",
    "\n",
    "# Get the absolute values for sorting\n",
    "corr_values['abs_correlation'] = corr_values.correlation.abs()"
   ]
  },
  {
   "cell_type": "markdown",
   "metadata": {},
   "source": [
    "A histogram of the absolute value correlations."
   ]
  },
  {
   "cell_type": "code",
   "execution_count": 10,
   "metadata": {
    "collapsed": true
   },
   "outputs": [],
   "source": [
    "import matplotlib.pyplot as plt\n",
    "import seaborn as sns\n",
    "%matplotlib inline"
   ]
  },
  {
   "cell_type": "code",
   "execution_count": 11,
   "metadata": {
    "collapsed": false
   },
   "outputs": [
    {
     "data": {
      "image/png": "[encoded data removed]",
      "text/plain": [
       "<matplotlib.figure.Figure at 0x111d09208>"
      ]
     },
     "metadata": {},
     "output_type": "display_data"
    }
   ],
   "source": [
    "sns.set_context('talk')\n",
    "sns.set_style('white')\n",
    "sns.set_palette('dark')\n",
    "\n",
    "ax = corr_values.abs_correlation.hist(bins=50)\n",
    "\n",
    "ax.set(xlabel='Absolute Correlation', ylabel='Frequency');"
   ]
  },
  {
   "cell_type": "code",
   "execution_count": 12,
   "metadata": {
    "collapsed": false
   },
   "outputs": [
    {
     "data": {
      "text/html": [
       "<div>\n",
       "<table border=\"1\" class=\"dataframe\">\n",
       "  <thead>\n",
       "    <tr style=\"text-align: right;\">\n",
       "      <th></th>\n",
       "      <th>feature1</th>\n",
       "      <th>feature2</th>\n",
       "      <th>correlation</th>\n",
       "      <th>abs_correlation</th>\n",
       "    </tr>\n",
       "  </thead>\n",
       "  <tbody>\n",
       "    <tr>\n",
       "      <th>156894</th>\n",
       "      <td>fBodyBodyGyroJerkMag-mean()</td>\n",
       "      <td>fBodyBodyGyroJerkMag-sma()</td>\n",
       "      <td>1.000000</td>\n",
       "      <td>1.000000</td>\n",
       "    </tr>\n",
       "    <tr>\n",
       "      <th>93902</th>\n",
       "      <td>tBodyAccMag-sma()</td>\n",
       "      <td>tGravityAccMag-sma()</td>\n",
       "      <td>1.000000</td>\n",
       "      <td>1.000000</td>\n",
       "    </tr>\n",
       "    <tr>\n",
       "      <th>101139</th>\n",
       "      <td>tBodyAccJerkMag-mean()</td>\n",
       "      <td>tBodyAccJerkMag-sma()</td>\n",
       "      <td>1.000000</td>\n",
       "      <td>1.000000</td>\n",
       "    </tr>\n",
       "    <tr>\n",
       "      <th>96706</th>\n",
       "      <td>tGravityAccMag-mean()</td>\n",
       "      <td>tGravityAccMag-sma()</td>\n",
       "      <td>1.000000</td>\n",
       "      <td>1.000000</td>\n",
       "    </tr>\n",
       "    <tr>\n",
       "      <th>94257</th>\n",
       "      <td>tBodyAccMag-energy()</td>\n",
       "      <td>tGravityAccMag-energy()</td>\n",
       "      <td>1.000000</td>\n",
       "      <td>1.000000</td>\n",
       "    </tr>\n",
       "    <tr>\n",
       "      <th>92472</th>\n",
       "      <td>tBodyAccMag-std()</td>\n",
       "      <td>tGravityAccMag-std()</td>\n",
       "      <td>1.000000</td>\n",
       "      <td>1.000000</td>\n",
       "    </tr>\n",
       "    <tr>\n",
       "      <th>156049</th>\n",
       "      <td>fBodyBodyAccJerkMag-mean()</td>\n",
       "      <td>fBodyBodyAccJerkMag-sma()</td>\n",
       "      <td>1.000000</td>\n",
       "      <td>1.000000</td>\n",
       "    </tr>\n",
       "    <tr>\n",
       "      <th>95316</th>\n",
       "      <td>tBodyAccMag-arCoeff()1</td>\n",
       "      <td>tGravityAccMag-arCoeff()1</td>\n",
       "      <td>1.000000</td>\n",
       "      <td>1.000000</td>\n",
       "    </tr>\n",
       "    <tr>\n",
       "      <th>93189</th>\n",
       "      <td>tBodyAccMag-max()</td>\n",
       "      <td>tGravityAccMag-max()</td>\n",
       "      <td>1.000000</td>\n",
       "      <td>1.000000</td>\n",
       "    </tr>\n",
       "    <tr>\n",
       "      <th>95667</th>\n",
       "      <td>tBodyAccMag-arCoeff()2</td>\n",
       "      <td>tGravityAccMag-arCoeff()2</td>\n",
       "      <td>1.000000</td>\n",
       "      <td>1.000000</td>\n",
       "    </tr>\n",
       "    <tr>\n",
       "      <th>155373</th>\n",
       "      <td>fBodyAccMag-mean()</td>\n",
       "      <td>fBodyAccMag-sma()</td>\n",
       "      <td>1.000000</td>\n",
       "      <td>1.000000</td>\n",
       "    </tr>\n",
       "    <tr>\n",
       "      <th>109498</th>\n",
       "      <td>tBodyGyroJerkMag-mean()</td>\n",
       "      <td>tBodyGyroJerkMag-sma()</td>\n",
       "      <td>1.000000</td>\n",
       "      <td>1.000000</td>\n",
       "    </tr>\n",
       "    <tr>\n",
       "      <th>156556</th>\n",
       "      <td>fBodyBodyGyroMag-mean()</td>\n",
       "      <td>fBodyBodyGyroMag-sma()</td>\n",
       "      <td>1.000000</td>\n",
       "      <td>1.000000</td>\n",
       "    </tr>\n",
       "    <tr>\n",
       "      <th>96017</th>\n",
       "      <td>tBodyAccMag-arCoeff()3</td>\n",
       "      <td>tGravityAccMag-arCoeff()3</td>\n",
       "      <td>1.000000</td>\n",
       "      <td>1.000000</td>\n",
       "    </tr>\n",
       "    <tr>\n",
       "      <th>96366</th>\n",
       "      <td>tBodyAccMag-arCoeff()4</td>\n",
       "      <td>tGravityAccMag-arCoeff()4</td>\n",
       "      <td>1.000000</td>\n",
       "      <td>1.000000</td>\n",
       "    </tr>\n",
       "    <tr>\n",
       "      <th>93897</th>\n",
       "      <td>tBodyAccMag-sma()</td>\n",
       "      <td>tGravityAccMag-mean()</td>\n",
       "      <td>1.000000</td>\n",
       "      <td>1.000000</td>\n",
       "    </tr>\n",
       "    <tr>\n",
       "      <th>92104</th>\n",
       "      <td>tBodyAccMag-mean()</td>\n",
       "      <td>tBodyAccMag-sma()</td>\n",
       "      <td>1.000000</td>\n",
       "      <td>1.000000</td>\n",
       "    </tr>\n",
       "    <tr>\n",
       "      <th>92112</th>\n",
       "      <td>tBodyAccMag-mean()</td>\n",
       "      <td>tGravityAccMag-mean()</td>\n",
       "      <td>1.000000</td>\n",
       "      <td>1.000000</td>\n",
       "    </tr>\n",
       "    <tr>\n",
       "      <th>92117</th>\n",
       "      <td>tBodyAccMag-mean()</td>\n",
       "      <td>tGravityAccMag-sma()</td>\n",
       "      <td>1.000000</td>\n",
       "      <td>1.000000</td>\n",
       "    </tr>\n",
       "    <tr>\n",
       "      <th>94964</th>\n",
       "      <td>tBodyAccMag-entropy()</td>\n",
       "      <td>tGravityAccMag-entropy()</td>\n",
       "      <td>1.000000</td>\n",
       "      <td>1.000000</td>\n",
       "    </tr>\n",
       "    <tr>\n",
       "      <th>94611</th>\n",
       "      <td>tBodyAccMag-iqr()</td>\n",
       "      <td>tGravityAccMag-iqr()</td>\n",
       "      <td>1.000000</td>\n",
       "      <td>1.000000</td>\n",
       "    </tr>\n",
       "    <tr>\n",
       "      <th>105403</th>\n",
       "      <td>tBodyGyroMag-mean()</td>\n",
       "      <td>tBodyGyroMag-sma()</td>\n",
       "      <td>1.000000</td>\n",
       "      <td>1.000000</td>\n",
       "    </tr>\n",
       "    <tr>\n",
       "      <th>92831</th>\n",
       "      <td>tBodyAccMag-mad()</td>\n",
       "      <td>tGravityAccMag-mad()</td>\n",
       "      <td>1.000000</td>\n",
       "      <td>1.000000</td>\n",
       "    </tr>\n",
       "    <tr>\n",
       "      <th>93546</th>\n",
       "      <td>tBodyAccMag-min()</td>\n",
       "      <td>tGravityAccMag-min()</td>\n",
       "      <td>1.000000</td>\n",
       "      <td>1.000000</td>\n",
       "    </tr>\n",
       "    <tr>\n",
       "      <th>50390</th>\n",
       "      <td>tBodyAccJerk-energy()-Z</td>\n",
       "      <td>fBodyAccJerk-energy()-Z</td>\n",
       "      <td>1.000000</td>\n",
       "      <td>1.000000</td>\n",
       "    </tr>\n",
       "    <tr>\n",
       "      <th>49927</th>\n",
       "      <td>tBodyAccJerk-energy()-Y</td>\n",
       "      <td>fBodyAccJerk-energy()-Y</td>\n",
       "      <td>1.000000</td>\n",
       "      <td>1.000000</td>\n",
       "    </tr>\n",
       "    <tr>\n",
       "      <th>49463</th>\n",
       "      <td>tBodyAccJerk-energy()-X</td>\n",
       "      <td>fBodyAccJerk-energy()-X</td>\n",
       "      <td>0.999999</td>\n",
       "      <td>0.999999</td>\n",
       "    </tr>\n",
       "    <tr>\n",
       "      <th>118052</th>\n",
       "      <td>fBodyAcc-energy()-X</td>\n",
       "      <td>fBodyAcc-bandsEnergy()-1,24</td>\n",
       "      <td>0.999864</td>\n",
       "      <td>0.999864</td>\n",
       "    </tr>\n",
       "    <tr>\n",
       "      <th>149731</th>\n",
       "      <td>fBodyGyro-energy()-X</td>\n",
       "      <td>fBodyGyro-bandsEnergy()-1,24</td>\n",
       "      <td>0.999773</td>\n",
       "      <td>0.999773</td>\n",
       "    </tr>\n",
       "    <tr>\n",
       "      <th>118344</th>\n",
       "      <td>fBodyAcc-energy()-Y</td>\n",
       "      <td>fBodyAcc-bandsEnergy()-1,24.1</td>\n",
       "      <td>0.999635</td>\n",
       "      <td>0.999635</td>\n",
       "    </tr>\n",
       "    <tr>\n",
       "      <th>...</th>\n",
       "      <td>...</td>\n",
       "      <td>...</td>\n",
       "      <td>...</td>\n",
       "      <td>...</td>\n",
       "    </tr>\n",
       "    <tr>\n",
       "      <th>1685</th>\n",
       "      <td>tBodyAcc-std()-X</td>\n",
       "      <td>tBodyAcc-min()-X</td>\n",
       "      <td>-0.965073</td>\n",
       "      <td>0.965073</td>\n",
       "    </tr>\n",
       "    <tr>\n",
       "      <th>78482</th>\n",
       "      <td>tBodyGyroJerk-std()-Y</td>\n",
       "      <td>tBodyGyroJerk-min()-Y</td>\n",
       "      <td>-0.965441</td>\n",
       "      <td>0.965441</td>\n",
       "    </tr>\n",
       "    <tr>\n",
       "      <th>6906</th>\n",
       "      <td>tBodyAcc-min()-X</td>\n",
       "      <td>fBodyAcc-mean()-X</td>\n",
       "      <td>-0.965633</td>\n",
       "      <td>0.965633</td>\n",
       "    </tr>\n",
       "    <tr>\n",
       "      <th>7454</th>\n",
       "      <td>tBodyAcc-min()-Y</td>\n",
       "      <td>fBodyAcc-mean()-Y</td>\n",
       "      <td>-0.966045</td>\n",
       "      <td>0.966045</td>\n",
       "    </tr>\n",
       "    <tr>\n",
       "      <th>48059</th>\n",
       "      <td>tBodyAccJerk-min()-Y</td>\n",
       "      <td>fBodyAccJerk-mad()-Y</td>\n",
       "      <td>-0.966159</td>\n",
       "      <td>0.966159</td>\n",
       "    </tr>\n",
       "    <tr>\n",
       "      <th>48053</th>\n",
       "      <td>tBodyAccJerk-min()-Y</td>\n",
       "      <td>fBodyAccJerk-mean()-Y</td>\n",
       "      <td>-0.966302</td>\n",
       "      <td>0.966302</td>\n",
       "    </tr>\n",
       "    <tr>\n",
       "      <th>48526</th>\n",
       "      <td>tBodyAccJerk-min()-Z</td>\n",
       "      <td>fBodyAccJerk-mad()-Z</td>\n",
       "      <td>-0.966982</td>\n",
       "      <td>0.966982</td>\n",
       "    </tr>\n",
       "    <tr>\n",
       "      <th>48520</th>\n",
       "      <td>tBodyAccJerk-min()-Z</td>\n",
       "      <td>fBodyAccJerk-mean()-Z</td>\n",
       "      <td>-0.967177</td>\n",
       "      <td>0.967177</td>\n",
       "    </tr>\n",
       "    <tr>\n",
       "      <th>82083</th>\n",
       "      <td>tBodyGyroJerk-min()-Y</td>\n",
       "      <td>tBodyGyroJerkMag-max()</td>\n",
       "      <td>-0.967179</td>\n",
       "      <td>0.967179</td>\n",
       "    </tr>\n",
       "    <tr>\n",
       "      <th>43562</th>\n",
       "      <td>tBodyAccJerk-std()-Y</td>\n",
       "      <td>tBodyAccJerk-min()-Y</td>\n",
       "      <td>-0.967283</td>\n",
       "      <td>0.967283</td>\n",
       "    </tr>\n",
       "    <tr>\n",
       "      <th>44038</th>\n",
       "      <td>tBodyAccJerk-std()-Z</td>\n",
       "      <td>tBodyAccJerk-min()-Z</td>\n",
       "      <td>-0.969258</td>\n",
       "      <td>0.969258</td>\n",
       "    </tr>\n",
       "    <tr>\n",
       "      <th>26772</th>\n",
       "      <td>tGravityAcc-max()-X</td>\n",
       "      <td>angle(X,gravityMean)</td>\n",
       "      <td>-0.986279</td>\n",
       "      <td>0.986279</td>\n",
       "    </tr>\n",
       "    <tr>\n",
       "      <th>37275</th>\n",
       "      <td>tGravityAcc-arCoeff()-Y,3</td>\n",
       "      <td>tGravityAcc-arCoeff()-Y,4</td>\n",
       "      <td>-0.987415</td>\n",
       "      <td>0.987415</td>\n",
       "    </tr>\n",
       "    <tr>\n",
       "      <th>34815</th>\n",
       "      <td>tGravityAcc-arCoeff()-X,2</td>\n",
       "      <td>tGravityAcc-arCoeff()-X,3</td>\n",
       "      <td>-0.988755</td>\n",
       "      <td>0.988755</td>\n",
       "    </tr>\n",
       "    <tr>\n",
       "      <th>28299</th>\n",
       "      <td>tGravityAcc-min()-X</td>\n",
       "      <td>angle(X,gravityMean)</td>\n",
       "      <td>-0.988757</td>\n",
       "      <td>0.988757</td>\n",
       "    </tr>\n",
       "    <tr>\n",
       "      <th>35309</th>\n",
       "      <td>tGravityAcc-arCoeff()-X,3</td>\n",
       "      <td>tGravityAcc-arCoeff()-X,4</td>\n",
       "      <td>-0.989192</td>\n",
       "      <td>0.989192</td>\n",
       "    </tr>\n",
       "    <tr>\n",
       "      <th>22137</th>\n",
       "      <td>tGravityAcc-mean()-X</td>\n",
       "      <td>angle(X,gravityMean)</td>\n",
       "      <td>-0.989280</td>\n",
       "      <td>0.989280</td>\n",
       "    </tr>\n",
       "    <tr>\n",
       "      <th>36785</th>\n",
       "      <td>tGravityAcc-arCoeff()-Y,2</td>\n",
       "      <td>tGravityAcc-arCoeff()-Y,3</td>\n",
       "      <td>-0.989299</td>\n",
       "      <td>0.989299</td>\n",
       "    </tr>\n",
       "    <tr>\n",
       "      <th>34320</th>\n",
       "      <td>tGravityAcc-arCoeff()-X,1</td>\n",
       "      <td>tGravityAcc-arCoeff()-X,2</td>\n",
       "      <td>-0.989335</td>\n",
       "      <td>0.989335</td>\n",
       "    </tr>\n",
       "    <tr>\n",
       "      <th>30321</th>\n",
       "      <td>tGravityAcc-energy()-X</td>\n",
       "      <td>angle(X,gravityMean)</td>\n",
       "      <td>-0.990372</td>\n",
       "      <td>0.990372</td>\n",
       "    </tr>\n",
       "    <tr>\n",
       "      <th>28807</th>\n",
       "      <td>tGravityAcc-min()-Y</td>\n",
       "      <td>angle(Y,gravityMean)</td>\n",
       "      <td>-0.990459</td>\n",
       "      <td>0.990459</td>\n",
       "    </tr>\n",
       "    <tr>\n",
       "      <th>29314</th>\n",
       "      <td>tGravityAcc-min()-Z</td>\n",
       "      <td>angle(Z,gravityMean)</td>\n",
       "      <td>-0.990748</td>\n",
       "      <td>0.990748</td>\n",
       "    </tr>\n",
       "    <tr>\n",
       "      <th>27283</th>\n",
       "      <td>tGravityAcc-max()-Y</td>\n",
       "      <td>angle(Y,gravityMean)</td>\n",
       "      <td>-0.991255</td>\n",
       "      <td>0.991255</td>\n",
       "    </tr>\n",
       "    <tr>\n",
       "      <th>36294</th>\n",
       "      <td>tGravityAcc-arCoeff()-Y,1</td>\n",
       "      <td>tGravityAcc-arCoeff()-Y,2</td>\n",
       "      <td>-0.991609</td>\n",
       "      <td>0.991609</td>\n",
       "    </tr>\n",
       "    <tr>\n",
       "      <th>27793</th>\n",
       "      <td>tGravityAcc-max()-Z</td>\n",
       "      <td>angle(Z,gravityMean)</td>\n",
       "      <td>-0.992689</td>\n",
       "      <td>0.992689</td>\n",
       "    </tr>\n",
       "    <tr>\n",
       "      <th>22657</th>\n",
       "      <td>tGravityAcc-mean()-Y</td>\n",
       "      <td>angle(Y,gravityMean)</td>\n",
       "      <td>-0.993425</td>\n",
       "      <td>0.993425</td>\n",
       "    </tr>\n",
       "    <tr>\n",
       "      <th>39225</th>\n",
       "      <td>tGravityAcc-arCoeff()-Z,3</td>\n",
       "      <td>tGravityAcc-arCoeff()-Z,4</td>\n",
       "      <td>-0.994267</td>\n",
       "      <td>0.994267</td>\n",
       "    </tr>\n",
       "    <tr>\n",
       "      <th>38739</th>\n",
       "      <td>tGravityAcc-arCoeff()-Z,2</td>\n",
       "      <td>tGravityAcc-arCoeff()-Z,3</td>\n",
       "      <td>-0.994628</td>\n",
       "      <td>0.994628</td>\n",
       "    </tr>\n",
       "    <tr>\n",
       "      <th>23176</th>\n",
       "      <td>tGravityAcc-mean()-Z</td>\n",
       "      <td>angle(Z,gravityMean)</td>\n",
       "      <td>-0.994764</td>\n",
       "      <td>0.994764</td>\n",
       "    </tr>\n",
       "    <tr>\n",
       "      <th>38252</th>\n",
       "      <td>tGravityAcc-arCoeff()-Z,1</td>\n",
       "      <td>tGravityAcc-arCoeff()-Z,2</td>\n",
       "      <td>-0.995195</td>\n",
       "      <td>0.995195</td>\n",
       "    </tr>\n",
       "  </tbody>\n",
       "</table>\n",
       "<p>22815 rows × 4 columns</p>\n",
       "</div>"
      ],
      "text/plain": [
       "                           feature1                       feature2  \\\n",
       "156894  fBodyBodyGyroJerkMag-mean()     fBodyBodyGyroJerkMag-sma()   \n",
       "93902             tBodyAccMag-sma()           tGravityAccMag-sma()   \n",
       "101139       tBodyAccJerkMag-mean()          tBodyAccJerkMag-sma()   \n",
       "96706         tGravityAccMag-mean()           tGravityAccMag-sma()   \n",
       "94257          tBodyAccMag-energy()        tGravityAccMag-energy()   \n",
       "92472             tBodyAccMag-std()           tGravityAccMag-std()   \n",
       "156049   fBodyBodyAccJerkMag-mean()      fBodyBodyAccJerkMag-sma()   \n",
       "95316        tBodyAccMag-arCoeff()1      tGravityAccMag-arCoeff()1   \n",
       "93189             tBodyAccMag-max()           tGravityAccMag-max()   \n",
       "95667        tBodyAccMag-arCoeff()2      tGravityAccMag-arCoeff()2   \n",
       "155373           fBodyAccMag-mean()              fBodyAccMag-sma()   \n",
       "109498      tBodyGyroJerkMag-mean()         tBodyGyroJerkMag-sma()   \n",
       "156556      fBodyBodyGyroMag-mean()         fBodyBodyGyroMag-sma()   \n",
       "96017        tBodyAccMag-arCoeff()3      tGravityAccMag-arCoeff()3   \n",
       "96366        tBodyAccMag-arCoeff()4      tGravityAccMag-arCoeff()4   \n",
       "93897             tBodyAccMag-sma()          tGravityAccMag-mean()   \n",
       "92104            tBodyAccMag-mean()              tBodyAccMag-sma()   \n",
       "92112            tBodyAccMag-mean()          tGravityAccMag-mean()   \n",
       "92117            tBodyAccMag-mean()           tGravityAccMag-sma()   \n",
       "94964         tBodyAccMag-entropy()       tGravityAccMag-entropy()   \n",
       "94611             tBodyAccMag-iqr()           tGravityAccMag-iqr()   \n",
       "105403          tBodyGyroMag-mean()             tBodyGyroMag-sma()   \n",
       "92831             tBodyAccMag-mad()           tGravityAccMag-mad()   \n",
       "93546             tBodyAccMag-min()           tGravityAccMag-min()   \n",
       "50390       tBodyAccJerk-energy()-Z        fBodyAccJerk-energy()-Z   \n",
       "49927       tBodyAccJerk-energy()-Y        fBodyAccJerk-energy()-Y   \n",
       "49463       tBodyAccJerk-energy()-X        fBodyAccJerk-energy()-X   \n",
       "118052          fBodyAcc-energy()-X    fBodyAcc-bandsEnergy()-1,24   \n",
       "149731         fBodyGyro-energy()-X   fBodyGyro-bandsEnergy()-1,24   \n",
       "118344          fBodyAcc-energy()-Y  fBodyAcc-bandsEnergy()-1,24.1   \n",
       "...                             ...                            ...   \n",
       "1685               tBodyAcc-std()-X               tBodyAcc-min()-X   \n",
       "78482         tBodyGyroJerk-std()-Y          tBodyGyroJerk-min()-Y   \n",
       "6906               tBodyAcc-min()-X              fBodyAcc-mean()-X   \n",
       "7454               tBodyAcc-min()-Y              fBodyAcc-mean()-Y   \n",
       "48059          tBodyAccJerk-min()-Y           fBodyAccJerk-mad()-Y   \n",
       "48053          tBodyAccJerk-min()-Y          fBodyAccJerk-mean()-Y   \n",
       "48526          tBodyAccJerk-min()-Z           fBodyAccJerk-mad()-Z   \n",
       "48520          tBodyAccJerk-min()-Z          fBodyAccJerk-mean()-Z   \n",
       "82083         tBodyGyroJerk-min()-Y         tBodyGyroJerkMag-max()   \n",
       "43562          tBodyAccJerk-std()-Y           tBodyAccJerk-min()-Y   \n",
       "44038          tBodyAccJerk-std()-Z           tBodyAccJerk-min()-Z   \n",
       "26772           tGravityAcc-max()-X           angle(X,gravityMean)   \n",
       "37275     tGravityAcc-arCoeff()-Y,3      tGravityAcc-arCoeff()-Y,4   \n",
       "34815     tGravityAcc-arCoeff()-X,2      tGravityAcc-arCoeff()-X,3   \n",
       "28299           tGravityAcc-min()-X           angle(X,gravityMean)   \n",
       "35309     tGravityAcc-arCoeff()-X,3      tGravityAcc-arCoeff()-X,4   \n",
       "22137          tGravityAcc-mean()-X           angle(X,gravityMean)   \n",
       "36785     tGravityAcc-arCoeff()-Y,2      tGravityAcc-arCoeff()-Y,3   \n",
       "34320     tGravityAcc-arCoeff()-X,1      tGravityAcc-arCoeff()-X,2   \n",
       "30321        tGravityAcc-energy()-X           angle(X,gravityMean)   \n",
       "28807           tGravityAcc-min()-Y           angle(Y,gravityMean)   \n",
       "29314           tGravityAcc-min()-Z           angle(Z,gravityMean)   \n",
       "27283           tGravityAcc-max()-Y           angle(Y,gravityMean)   \n",
       "36294     tGravityAcc-arCoeff()-Y,1      tGravityAcc-arCoeff()-Y,2   \n",
       "27793           tGravityAcc-max()-Z           angle(Z,gravityMean)   \n",
       "22657          tGravityAcc-mean()-Y           angle(Y,gravityMean)   \n",
       "39225     tGravityAcc-arCoeff()-Z,3      tGravityAcc-arCoeff()-Z,4   \n",
       "38739     tGravityAcc-arCoeff()-Z,2      tGravityAcc-arCoeff()-Z,3   \n",
       "23176          tGravityAcc-mean()-Z           angle(Z,gravityMean)   \n",
       "38252     tGravityAcc-arCoeff()-Z,1      tGravityAcc-arCoeff()-Z,2   \n",
       "\n",
       "        correlation  abs_correlation  \n",
       "156894     1.000000         1.000000  \n",
       "93902      1.000000         1.000000  \n",
       "101139     1.000000         1.000000  \n",
       "96706      1.000000         1.000000  \n",
       "94257      1.000000         1.000000  \n",
       "92472      1.000000         1.000000  \n",
       "156049     1.000000         1.000000  \n",
       "95316      1.000000         1.000000  \n",
       "93189      1.000000         1.000000  \n",
       "95667      1.000000         1.000000  \n",
       "155373     1.000000         1.000000  \n",
       "109498     1.000000         1.000000  \n",
       "156556     1.000000         1.000000  \n",
       "96017      1.000000         1.000000  \n",
       "96366      1.000000         1.000000  \n",
       "93897      1.000000         1.000000  \n",
       "92104      1.000000         1.000000  \n",
       "92112      1.000000         1.000000  \n",
       "92117      1.000000         1.000000  \n",
       "94964      1.000000         1.000000  \n",
       "94611      1.000000         1.000000  \n",
       "105403     1.000000         1.000000  \n",
       "92831      1.000000         1.000000  \n",
       "93546      1.000000         1.000000  \n",
       "50390      1.000000         1.000000  \n",
       "49927      1.000000         1.000000  \n",
       "49463      0.999999         0.999999  \n",
       "118052     0.999864         0.999864  \n",
       "149731     0.999773         0.999773  \n",
       "118344     0.999635         0.999635  \n",
       "...             ...              ...  \n",
       "1685      -0.965073         0.965073  \n",
       "78482     -0.965441         0.965441  \n",
       "6906      -0.965633         0.965633  \n",
       "7454      -0.966045         0.966045  \n",
       "48059     -0.966159         0.966159  \n",
       "48053     -0.966302         0.966302  \n",
       "48526     -0.966982         0.966982  \n",
       "48520     -0.967177         0.967177  \n",
       "82083     -0.967179         0.967179  \n",
       "43562     -0.967283         0.967283  \n",
       "44038     -0.969258         0.969258  \n",
       "26772     -0.986279         0.986279  \n",
       "37275     -0.987415         0.987415  \n",
       "34815     -0.988755         0.988755  \n",
       "28299     -0.988757         0.988757  \n",
       "35309     -0.989192         0.989192  \n",
       "22137     -0.989280         0.989280  \n",
       "36785     -0.989299         0.989299  \n",
       "34320     -0.989335         0.989335  \n",
       "30321     -0.990372         0.990372  \n",
       "28807     -0.990459         0.990459  \n",
       "29314     -0.990748         0.990748  \n",
       "27283     -0.991255         0.991255  \n",
       "36294     -0.991609         0.991609  \n",
       "27793     -0.992689         0.992689  \n",
       "22657     -0.993425         0.993425  \n",
       "39225     -0.994267         0.994267  \n",
       "38739     -0.994628         0.994628  \n",
       "23176     -0.994764         0.994764  \n",
       "38252     -0.995195         0.995195  \n",
       "\n",
       "[22815 rows x 4 columns]"
      ]
     },
     "execution_count": 12,
     "metadata": {},
     "output_type": "execute_result"
    }
   ],
   "source": [
    "# The most highly correlated values\n",
    "corr_values.sort_values('correlation', ascending=False).query('abs_correlation>0.8')"
   ]
  },
  {
   "cell_type": "markdown",
   "metadata": {},
   "source": [
    "## Question 3\n",
    "\n",
    "* Split the data into train and test data sets. This can be done using any method, but consider using Scikit-learn's `StratifiedShuffleSplit` to maintain the same ratio of predictor classes.\n",
    "* Regardless of methods used to split the data, compare the ratio of classes in both the train and test splits.\n"
   ]
  },
  {
   "cell_type": "code",
   "execution_count": 13,
   "metadata": {
    "collapsed": false
   },
   "outputs": [],
   "source": [
    "from sklearn.model_selection import StratifiedShuffleSplit\n",
    "\n",
    "# Get the split indexes\n",
    "strat_shuf_split = StratifiedShuffleSplit(n_splits=1, \n",
    "                                          test_size=0.3, \n",
    "                                          random_state=42)\n",
    "\n",
    "train_idx, test_idx = next(strat_shuf_split.split(data[feature_cols], data.Activity))\n",
    "\n",
    "# Create the dataframes\n",
    "X_train = data.loc[train_idx, feature_cols]\n",
    "y_train = data.loc[train_idx, 'Activity']\n",
    "\n",
    "X_test  = data.loc[test_idx, feature_cols]\n",
    "y_test  = data.loc[test_idx, 'Activity']"
   ]
  },
  {
   "cell_type": "code",
   "execution_count": 14,
   "metadata": {
    "collapsed": false
   },
   "outputs": [
    {
     "data": {
      "text/plain": [
       "0    0.188792\n",
       "2    0.185046\n",
       "1    0.172562\n",
       "3    0.167152\n",
       "5    0.149951\n",
       "4    0.136496\n",
       "Name: Activity, dtype: float64"
      ]
     },
     "execution_count": 14,
     "metadata": {},
     "output_type": "execute_result"
    }
   ],
   "source": [
    "y_train.value_counts(normalize=True)"
   ]
  },
  {
   "cell_type": "code",
   "execution_count": 15,
   "metadata": {
    "collapsed": false
   },
   "outputs": [
    {
     "data": {
      "text/plain": [
       "0    0.188673\n",
       "2    0.185113\n",
       "1    0.172492\n",
       "3    0.167314\n",
       "5    0.149838\n",
       "4    0.136570\n",
       "Name: Activity, dtype: float64"
      ]
     },
     "execution_count": 15,
     "metadata": {},
     "output_type": "execute_result"
    }
   ],
   "source": [
    "y_test.value_counts(normalize=True)"
   ]
  },
  {
   "cell_type": "markdown",
   "metadata": {},
   "source": [
    "## Question 4\n",
    "\n",
    "* Fit a logistic regression model without any regularization using all of the features. Be sure to read the documentation about fitting a multi-class model so you understand the coefficient output. Store the model.\n",
    "* Using cross validation to determine the hyperparameters, fit models using L1, and L2 regularization. Store each of these models as well. Note the limitations on multi-class models, solvers, and regularizations. The regularized models, in particular the L1 model, will probably take a while to fit."
   ]
  },
  {
   "cell_type": "code",
   "execution_count": 16,
   "metadata": {
    "collapsed": false
   },
   "outputs": [],
   "source": [
    "from sklearn.linear_model import LogisticRegression\n",
    "\n",
    "# Standard logistic regression\n",
    "lr = LogisticRegression().fit(X_train, y_train)"
   ]
  },
  {
   "cell_type": "code",
   "execution_count": 17,
   "metadata": {
    "collapsed": false
   },
   "outputs": [],
   "source": [
    "from sklearn.linear_model import LogisticRegressionCV\n",
    "\n",
    "# L1 regularized logistic regression\n",
    "lr_l1 = LogisticRegressionCV(Cs=10, cv=4, penalty='l1', solver='liblinear').fit(X_train, y_train)"
   ]
  },
  {
   "cell_type": "code",
   "execution_count": 18,
   "metadata": {
    "collapsed": true
   },
   "outputs": [],
   "source": [
    "# L2 regularized logistic regression\n",
    "lr_l2 = LogisticRegressionCV(Cs=10, cv=4, penalty='l2').fit(X_train, y_train)"
   ]
  },
  {
   "cell_type": "markdown",
   "metadata": {},
   "source": [
    "## Question 5\n",
    "\n",
    "Compare the magnitudes of the coefficients for each of the models. If one-vs-rest fitting was used, each set of coefficients can be plotted separately. "
   ]
  },
  {
   "cell_type": "code",
   "execution_count": 19,
   "metadata": {
    "collapsed": false
   },
   "outputs": [
    {
     "data": {
      "text/html": [
       "<div>\n",
       "<table border=\"1\" class=\"dataframe\">\n",
       "  <thead>\n",
       "    <tr>\n",
       "      <th></th>\n",
       "      <th colspan=\"6\" halign=\"left\">lr</th>\n",
       "      <th colspan=\"6\" halign=\"left\">l1</th>\n",
       "      <th colspan=\"6\" halign=\"left\">l2</th>\n",
       "    </tr>\n",
       "    <tr>\n",
       "      <th></th>\n",
       "      <th>0</th>\n",
       "      <th>1</th>\n",
       "      <th>2</th>\n",
       "      <th>3</th>\n",
       "      <th>4</th>\n",
       "      <th>5</th>\n",
       "      <th>0</th>\n",
       "      <th>1</th>\n",
       "      <th>2</th>\n",
       "      <th>3</th>\n",
       "      <th>4</th>\n",
       "      <th>5</th>\n",
       "      <th>0</th>\n",
       "      <th>1</th>\n",
       "      <th>2</th>\n",
       "      <th>3</th>\n",
       "      <th>4</th>\n",
       "      <th>5</th>\n",
       "    </tr>\n",
       "  </thead>\n",
       "  <tbody>\n",
       "    <tr>\n",
       "      <th>88</th>\n",
       "      <td>-0.034089</td>\n",
       "      <td>0.068083</td>\n",
       "      <td>-0.294508</td>\n",
       "      <td>0.119140</td>\n",
       "      <td>0.209142</td>\n",
       "      <td>-0.556358</td>\n",
       "      <td>-0.002925</td>\n",
       "      <td>0.000000</td>\n",
       "      <td>0.000000</td>\n",
       "      <td>0.000000</td>\n",
       "      <td>0.361315</td>\n",
       "      <td>-0.798457</td>\n",
       "      <td>-0.075932</td>\n",
       "      <td>0.115602</td>\n",
       "      <td>-0.427807</td>\n",
       "      <td>0.305554</td>\n",
       "      <td>0.763685</td>\n",
       "      <td>-3.190128</td>\n",
       "    </tr>\n",
       "    <tr>\n",
       "      <th>131</th>\n",
       "      <td>-0.008328</td>\n",
       "      <td>-0.149245</td>\n",
       "      <td>0.275172</td>\n",
       "      <td>-0.275192</td>\n",
       "      <td>-0.756337</td>\n",
       "      <td>0.935219</td>\n",
       "      <td>0.000000</td>\n",
       "      <td>0.000000</td>\n",
       "      <td>0.551189</td>\n",
       "      <td>0.000000</td>\n",
       "      <td>-2.306180</td>\n",
       "      <td>4.286691</td>\n",
       "      <td>-0.000112</td>\n",
       "      <td>-0.334588</td>\n",
       "      <td>0.595855</td>\n",
       "      <td>-0.336602</td>\n",
       "      <td>-2.404159</td>\n",
       "      <td>5.600805</td>\n",
       "    </tr>\n",
       "    <tr>\n",
       "      <th>290</th>\n",
       "      <td>0.102688</td>\n",
       "      <td>0.113181</td>\n",
       "      <td>-0.294442</td>\n",
       "      <td>-0.242476</td>\n",
       "      <td>0.011837</td>\n",
       "      <td>0.392545</td>\n",
       "      <td>0.031166</td>\n",
       "      <td>0.178113</td>\n",
       "      <td>-0.540436</td>\n",
       "      <td>0.000000</td>\n",
       "      <td>0.000000</td>\n",
       "      <td>0.439121</td>\n",
       "      <td>0.409851</td>\n",
       "      <td>0.126520</td>\n",
       "      <td>-0.406711</td>\n",
       "      <td>-0.655366</td>\n",
       "      <td>-0.337139</td>\n",
       "      <td>0.729796</td>\n",
       "    </tr>\n",
       "    <tr>\n",
       "      <th>239</th>\n",
       "      <td>-0.001301</td>\n",
       "      <td>0.111786</td>\n",
       "      <td>-0.765764</td>\n",
       "      <td>-0.289881</td>\n",
       "      <td>0.250241</td>\n",
       "      <td>0.345581</td>\n",
       "      <td>0.000000</td>\n",
       "      <td>0.000000</td>\n",
       "      <td>-2.331580</td>\n",
       "      <td>0.000000</td>\n",
       "      <td>0.965631</td>\n",
       "      <td>0.706231</td>\n",
       "      <td>0.060594</td>\n",
       "      <td>0.423216</td>\n",
       "      <td>-1.153869</td>\n",
       "      <td>-0.396948</td>\n",
       "      <td>0.977010</td>\n",
       "      <td>1.487063</td>\n",
       "    </tr>\n",
       "    <tr>\n",
       "      <th>74</th>\n",
       "      <td>-0.103817</td>\n",
       "      <td>-0.227167</td>\n",
       "      <td>0.241250</td>\n",
       "      <td>-0.309442</td>\n",
       "      <td>-0.179884</td>\n",
       "      <td>0.319094</td>\n",
       "      <td>0.000000</td>\n",
       "      <td>0.000000</td>\n",
       "      <td>0.000000</td>\n",
       "      <td>-0.021992</td>\n",
       "      <td>-0.387894</td>\n",
       "      <td>-0.094517</td>\n",
       "      <td>-0.108016</td>\n",
       "      <td>-0.460282</td>\n",
       "      <td>0.425235</td>\n",
       "      <td>-0.403585</td>\n",
       "      <td>-0.140003</td>\n",
       "      <td>0.427463</td>\n",
       "    </tr>\n",
       "    <tr>\n",
       "      <th>228</th>\n",
       "      <td>-0.053523</td>\n",
       "      <td>-0.105324</td>\n",
       "      <td>-0.297023</td>\n",
       "      <td>0.305928</td>\n",
       "      <td>0.320824</td>\n",
       "      <td>-0.659763</td>\n",
       "      <td>-0.011405</td>\n",
       "      <td>0.000000</td>\n",
       "      <td>0.000000</td>\n",
       "      <td>0.149383</td>\n",
       "      <td>0.000000</td>\n",
       "      <td>-1.309599</td>\n",
       "      <td>-0.118007</td>\n",
       "      <td>-0.100046</td>\n",
       "      <td>-0.395055</td>\n",
       "      <td>0.734376</td>\n",
       "      <td>0.803270</td>\n",
       "      <td>-2.683170</td>\n",
       "    </tr>\n",
       "    <tr>\n",
       "      <th>345</th>\n",
       "      <td>-0.061345</td>\n",
       "      <td>-0.167199</td>\n",
       "      <td>-0.301441</td>\n",
       "      <td>0.440004</td>\n",
       "      <td>-0.042181</td>\n",
       "      <td>-0.255919</td>\n",
       "      <td>-0.125952</td>\n",
       "      <td>0.000000</td>\n",
       "      <td>0.000000</td>\n",
       "      <td>0.971255</td>\n",
       "      <td>0.000000</td>\n",
       "      <td>-0.246554</td>\n",
       "      <td>-0.119518</td>\n",
       "      <td>-0.210925</td>\n",
       "      <td>-0.405252</td>\n",
       "      <td>0.946411</td>\n",
       "      <td>-0.127535</td>\n",
       "      <td>-1.666720</td>\n",
       "    </tr>\n",
       "    <tr>\n",
       "      <th>394</th>\n",
       "      <td>-0.022748</td>\n",
       "      <td>0.125263</td>\n",
       "      <td>0.089827</td>\n",
       "      <td>-0.210032</td>\n",
       "      <td>0.196514</td>\n",
       "      <td>-0.223666</td>\n",
       "      <td>-0.011229</td>\n",
       "      <td>0.000000</td>\n",
       "      <td>0.000000</td>\n",
       "      <td>0.000000</td>\n",
       "      <td>0.279271</td>\n",
       "      <td>-0.398793</td>\n",
       "      <td>-0.074086</td>\n",
       "      <td>0.061808</td>\n",
       "      <td>0.049310</td>\n",
       "      <td>-0.099855</td>\n",
       "      <td>0.489907</td>\n",
       "      <td>-1.002330</td>\n",
       "    </tr>\n",
       "    <tr>\n",
       "      <th>90</th>\n",
       "      <td>-0.039065</td>\n",
       "      <td>0.112726</td>\n",
       "      <td>-0.031639</td>\n",
       "      <td>-0.119252</td>\n",
       "      <td>1.008933</td>\n",
       "      <td>-0.543544</td>\n",
       "      <td>0.000000</td>\n",
       "      <td>0.000000</td>\n",
       "      <td>0.000000</td>\n",
       "      <td>0.000000</td>\n",
       "      <td>1.832123</td>\n",
       "      <td>-0.955974</td>\n",
       "      <td>-0.111068</td>\n",
       "      <td>0.197179</td>\n",
       "      <td>-0.184706</td>\n",
       "      <td>-0.522511</td>\n",
       "      <td>3.249390</td>\n",
       "      <td>-3.267352</td>\n",
       "    </tr>\n",
       "    <tr>\n",
       "      <th>142</th>\n",
       "      <td>0.381593</td>\n",
       "      <td>-1.901225</td>\n",
       "      <td>1.772556</td>\n",
       "      <td>0.103444</td>\n",
       "      <td>0.914542</td>\n",
       "      <td>-0.830879</td>\n",
       "      <td>0.920446</td>\n",
       "      <td>-2.302569</td>\n",
       "      <td>2.175630</td>\n",
       "      <td>0.000000</td>\n",
       "      <td>1.676124</td>\n",
       "      <td>-1.556660</td>\n",
       "      <td>0.792797</td>\n",
       "      <td>-2.135714</td>\n",
       "      <td>2.033944</td>\n",
       "      <td>0.134627</td>\n",
       "      <td>2.081544</td>\n",
       "      <td>-2.458346</td>\n",
       "    </tr>\n",
       "  </tbody>\n",
       "</table>\n",
       "</div>"
      ],
      "text/plain": [
       "           lr                                                          l1  \\\n",
       "            0         1         2         3         4         5         0   \n",
       "88  -0.034089  0.068083 -0.294508  0.119140  0.209142 -0.556358 -0.002925   \n",
       "131 -0.008328 -0.149245  0.275172 -0.275192 -0.756337  0.935219  0.000000   \n",
       "290  0.102688  0.113181 -0.294442 -0.242476  0.011837  0.392545  0.031166   \n",
       "239 -0.001301  0.111786 -0.765764 -0.289881  0.250241  0.345581  0.000000   \n",
       "74  -0.103817 -0.227167  0.241250 -0.309442 -0.179884  0.319094  0.000000   \n",
       "228 -0.053523 -0.105324 -0.297023  0.305928  0.320824 -0.659763 -0.011405   \n",
       "345 -0.061345 -0.167199 -0.301441  0.440004 -0.042181 -0.255919 -0.125952   \n",
       "394 -0.022748  0.125263  0.089827 -0.210032  0.196514 -0.223666 -0.011229   \n",
       "90  -0.039065  0.112726 -0.031639 -0.119252  1.008933 -0.543544  0.000000   \n",
       "142  0.381593 -1.901225  1.772556  0.103444  0.914542 -0.830879  0.920446   \n",
       "\n",
       "                                                             l2            \\\n",
       "            1         2         3         4         5         0         1   \n",
       "88   0.000000  0.000000  0.000000  0.361315 -0.798457 -0.075932  0.115602   \n",
       "131  0.000000  0.551189  0.000000 -2.306180  4.286691 -0.000112 -0.334588   \n",
       "290  0.178113 -0.540436  0.000000  0.000000  0.439121  0.409851  0.126520   \n",
       "239  0.000000 -2.331580  0.000000  0.965631  0.706231  0.060594  0.423216   \n",
       "74   0.000000  0.000000 -0.021992 -0.387894 -0.094517 -0.108016 -0.460282   \n",
       "228  0.000000  0.000000  0.149383  0.000000 -1.309599 -0.118007 -0.100046   \n",
       "345  0.000000  0.000000  0.971255  0.000000 -0.246554 -0.119518 -0.210925   \n",
       "394  0.000000  0.000000  0.000000  0.279271 -0.398793 -0.074086  0.061808   \n",
       "90   0.000000  0.000000  0.000000  1.832123 -0.955974 -0.111068  0.197179   \n",
       "142 -2.302569  2.175630  0.000000  1.676124 -1.556660  0.792797 -2.135714   \n",
       "\n",
       "                                             \n",
       "            2         3         4         5  \n",
       "88  -0.427807  0.305554  0.763685 -3.190128  \n",
       "131  0.595855 -0.336602 -2.404159  5.600805  \n",
       "290 -0.406711 -0.655366 -0.337139  0.729796  \n",
       "239 -1.153869 -0.396948  0.977010  1.487063  \n",
       "74   0.425235 -0.403585 -0.140003  0.427463  \n",
       "228 -0.395055  0.734376  0.803270 -2.683170  \n",
       "345 -0.405252  0.946411 -0.127535 -1.666720  \n",
       "394  0.049310 -0.099855  0.489907 -1.002330  \n",
       "90  -0.184706 -0.522511  3.249390 -3.267352  \n",
       "142  2.033944  0.134627  2.081544 -2.458346  "
      ]
     },
     "execution_count": 19,
     "metadata": {},
     "output_type": "execute_result"
    }
   ],
   "source": [
    "# Combine all the coefficients into a dataframe\n",
    "coefficients = list()\n",
    "\n",
    "coeff_labels = ['lr', 'l1', 'l2']\n",
    "coeff_models = [lr, lr_l1, lr_l2]\n",
    "\n",
    "for lab,mod in zip(coeff_labels, coeff_models):\n",
    "    coeffs = mod.coef_\n",
    "    coeff_label = pd.MultiIndex(levels=[[lab], [0,1,2,3,4,5]], \n",
    "                                 labels=[[0,0,0,0,0,0], [0,1,2,3,4,5]])\n",
    "    coefficients.append(pd.DataFrame(coeffs.T, columns=coeff_label))\n",
    "\n",
    "coefficients = pd.concat(coefficients, axis=1)\n",
    "\n",
    "coefficients.sample(10)"
   ]
  },
  {
   "cell_type": "markdown",
   "metadata": {},
   "source": [
    "Prepare six separate plots for each of the multi-class coefficients."
   ]
  },
  {
   "cell_type": "code",
   "execution_count": 20,
   "metadata": {
    "collapsed": false
   },
   "outputs": [
    {
     "data": {
      "image/png": "[encoded data removed]",
      "text/plain": [
       "<matplotlib.figure.Figure at 0x110a14e80>"
      ]
     },
     "metadata": {},
     "output_type": "display_data"
    }
   ],
   "source": [
    "fig, axList = plt.subplots(nrows=3, ncols=2)\n",
    "axList = axList.flatten()\n",
    "fig.set_size_inches(10,10)\n",
    "\n",
    "for ax in enumerate(axList):\n",
    "    loc = ax[0]\n",
    "    ax = ax[1]\n",
    "    \n",
    "    data = coefficients.xs(loc, level=1, axis=1)\n",
    "    data.plot(marker='o', ls='', ms=2.0, ax=ax, legend=False)\n",
    "    \n",
    "    if ax is axList[0]:\n",
    "        ax.legend(loc=4)\n",
    "        \n",
    "    ax.set(title='Coefficient Set '+str(loc))\n",
    "\n",
    "plt.tight_layout()"
   ]
  },
  {
   "cell_type": "markdown",
   "metadata": {},
   "source": [
    "## Question 6\n",
    "\n",
    "* Predict and store the class for each model.\n",
    "* Also store the probability for the predicted class for each model. "
   ]
  },
  {
   "cell_type": "code",
   "execution_count": 21,
   "metadata": {
    "collapsed": false
   },
   "outputs": [
    {
     "data": {
      "text/html": [
       "<div>\n",
       "<table border=\"1\" class=\"dataframe\">\n",
       "  <thead>\n",
       "    <tr style=\"text-align: right;\">\n",
       "      <th></th>\n",
       "      <th>lr</th>\n",
       "      <th>l1</th>\n",
       "      <th>l2</th>\n",
       "    </tr>\n",
       "  </thead>\n",
       "  <tbody>\n",
       "    <tr>\n",
       "      <th>0</th>\n",
       "      <td>3</td>\n",
       "      <td>3</td>\n",
       "      <td>3</td>\n",
       "    </tr>\n",
       "    <tr>\n",
       "      <th>1</th>\n",
       "      <td>5</td>\n",
       "      <td>5</td>\n",
       "      <td>5</td>\n",
       "    </tr>\n",
       "    <tr>\n",
       "      <th>2</th>\n",
       "      <td>3</td>\n",
       "      <td>3</td>\n",
       "      <td>3</td>\n",
       "    </tr>\n",
       "    <tr>\n",
       "      <th>3</th>\n",
       "      <td>1</td>\n",
       "      <td>1</td>\n",
       "      <td>1</td>\n",
       "    </tr>\n",
       "    <tr>\n",
       "      <th>4</th>\n",
       "      <td>0</td>\n",
       "      <td>0</td>\n",
       "      <td>0</td>\n",
       "    </tr>\n",
       "  </tbody>\n",
       "</table>\n",
       "</div>"
      ],
      "text/plain": [
       "   lr  l1  l2\n",
       "0   3   3   3\n",
       "1   5   5   5\n",
       "2   3   3   3\n",
       "3   1   1   1\n",
       "4   0   0   0"
      ]
     },
     "execution_count": 21,
     "metadata": {},
     "output_type": "execute_result"
    }
   ],
   "source": [
    "# Predict the class and the probability for each\n",
    "y_pred = list()\n",
    "y_prob = list()\n",
    "\n",
    "coeff_labels = ['lr', 'l1', 'l2']\n",
    "coeff_models = [lr, lr_l1, lr_l2]\n",
    "\n",
    "for lab,mod in zip(coeff_labels, coeff_models):\n",
    "    y_pred.append(pd.Series(mod.predict(X_test), name=lab))\n",
    "    y_prob.append(pd.Series(mod.predict_proba(X_test).max(axis=1), name=lab))\n",
    "    \n",
    "y_pred = pd.concat(y_pred, axis=1)\n",
    "y_prob = pd.concat(y_prob, axis=1)\n",
    "\n",
    "y_pred.head()"
   ]
  },
  {
   "cell_type": "code",
   "execution_count": 22,
   "metadata": {
    "collapsed": false
   },
   "outputs": [
    {
     "data": {
      "text/html": [
       "<div>\n",
       "<table border=\"1\" class=\"dataframe\">\n",
       "  <thead>\n",
       "    <tr style=\"text-align: right;\">\n",
       "      <th></th>\n",
       "      <th>lr</th>\n",
       "      <th>l1</th>\n",
       "      <th>l2</th>\n",
       "    </tr>\n",
       "  </thead>\n",
       "  <tbody>\n",
       "    <tr>\n",
       "      <th>0</th>\n",
       "      <td>0.998939</td>\n",
       "      <td>0.998930</td>\n",
       "      <td>0.999817</td>\n",
       "    </tr>\n",
       "    <tr>\n",
       "      <th>1</th>\n",
       "      <td>0.988165</td>\n",
       "      <td>0.999597</td>\n",
       "      <td>0.999967</td>\n",
       "    </tr>\n",
       "    <tr>\n",
       "      <th>2</th>\n",
       "      <td>0.987592</td>\n",
       "      <td>0.996101</td>\n",
       "      <td>0.998856</td>\n",
       "    </tr>\n",
       "    <tr>\n",
       "      <th>3</th>\n",
       "      <td>0.981381</td>\n",
       "      <td>0.999173</td>\n",
       "      <td>0.994559</td>\n",
       "    </tr>\n",
       "    <tr>\n",
       "      <th>4</th>\n",
       "      <td>0.998277</td>\n",
       "      <td>0.999922</td>\n",
       "      <td>0.999648</td>\n",
       "    </tr>\n",
       "  </tbody>\n",
       "</table>\n",
       "</div>"
      ],
      "text/plain": [
       "         lr        l1        l2\n",
       "0  0.998939  0.998930  0.999817\n",
       "1  0.988165  0.999597  0.999967\n",
       "2  0.987592  0.996101  0.998856\n",
       "3  0.981381  0.999173  0.994559\n",
       "4  0.998277  0.999922  0.999648"
      ]
     },
     "execution_count": 22,
     "metadata": {},
     "output_type": "execute_result"
    }
   ],
   "source": [
    "y_prob.head()"
   ]
  },
  {
   "cell_type": "markdown",
   "metadata": {},
   "source": [
    "## Question 7\n",
    "\n",
    "For each model, calculate the following error metrics: \n",
    "\n",
    "* accuracy\n",
    "* precision\n",
    "* recall\n",
    "* fscore\n",
    "* confusion matrix\n",
    "\n",
    "Decide how to combine the multi-class metrics into a single value for each model."
   ]
  },
  {
   "cell_type": "code",
   "execution_count": 23,
   "metadata": {
    "collapsed": false
   },
   "outputs": [],
   "source": [
    "from sklearn.metrics import precision_recall_fscore_support as score\n",
    "from sklearn.metrics import confusion_matrix, accuracy_score, roc_auc_score\n",
    "from sklearn.preprocessing import label_binarize\n",
    "\n",
    "metrics = list()\n",
    "cm = dict()\n",
    "\n",
    "for lab in coeff_labels:\n",
    "\n",
    "    # Preciision, recall, f-score from the multi-class support function\n",
    "    precision, recall, fscore, _ = score(y_test, y_pred[lab], average='weighted')\n",
    "    \n",
    "    # The usual way to calculate accuracy\n",
    "    accuracy = accuracy_score(y_test, y_pred[lab])\n",
    "    \n",
    "    # ROC-AUC scores can be calculated by binarizing the data\n",
    "    auc = roc_auc_score(label_binarize(y_test, classes=[0,1,2,3,4,5]),\n",
    "              label_binarize(y_pred[lab], classes=[0,1,2,3,4,5]), \n",
    "              average='weighted')\n",
    "    \n",
    "    # Last, the confusion matrix\n",
    "    cm[lab] = confusion_matrix(y_test, y_pred[lab])\n",
    "    \n",
    "    metrics.append(pd.Series({'precision':precision, 'recall':recall, \n",
    "                              'fscore':fscore, 'accuracy':accuracy,\n",
    "                              'auc':auc}, \n",
    "                             name=lab))\n",
    "\n",
    "metrics = pd.concat(metrics, axis=1)"
   ]
  },
  {
   "cell_type": "code",
   "execution_count": 24,
   "metadata": {
    "collapsed": false
   },
   "outputs": [
    {
     "data": {
      "text/html": [
       "<div>\n",
       "<table border=\"1\" class=\"dataframe\">\n",
       "  <thead>\n",
       "    <tr style=\"text-align: right;\">\n",
       "      <th></th>\n",
       "      <th>lr</th>\n",
       "      <th>l1</th>\n",
       "      <th>l2</th>\n",
       "    </tr>\n",
       "  </thead>\n",
       "  <tbody>\n",
       "    <tr>\n",
       "      <th>accuracy</th>\n",
       "      <td>0.984142</td>\n",
       "      <td>0.983495</td>\n",
       "      <td>0.984142</td>\n",
       "    </tr>\n",
       "    <tr>\n",
       "      <th>auc</th>\n",
       "      <td>0.990384</td>\n",
       "      <td>0.989949</td>\n",
       "      <td>0.990366</td>\n",
       "    </tr>\n",
       "    <tr>\n",
       "      <th>fscore</th>\n",
       "      <td>0.984143</td>\n",
       "      <td>0.983492</td>\n",
       "      <td>0.984141</td>\n",
       "    </tr>\n",
       "    <tr>\n",
       "      <th>precision</th>\n",
       "      <td>0.984144</td>\n",
       "      <td>0.983514</td>\n",
       "      <td>0.984145</td>\n",
       "    </tr>\n",
       "    <tr>\n",
       "      <th>recall</th>\n",
       "      <td>0.984142</td>\n",
       "      <td>0.983495</td>\n",
       "      <td>0.984142</td>\n",
       "    </tr>\n",
       "  </tbody>\n",
       "</table>\n",
       "</div>"
      ],
      "text/plain": [
       "                 lr        l1        l2\n",
       "accuracy   0.984142  0.983495  0.984142\n",
       "auc        0.990384  0.989949  0.990366\n",
       "fscore     0.984143  0.983492  0.984141\n",
       "precision  0.984144  0.983514  0.984145\n",
       "recall     0.984142  0.983495  0.984142"
      ]
     },
     "execution_count": 24,
     "metadata": {},
     "output_type": "execute_result"
    }
   ],
   "source": [
    "metrics"
   ]
  },
  {
   "cell_type": "markdown",
   "metadata": {},
   "source": [
    "## Question 8\n",
    "\n",
    "Display or plot the confusion matrix for each model."
   ]
  },
  {
   "cell_type": "code",
   "execution_count": 25,
   "metadata": {
    "collapsed": false
   },
   "outputs": [
    {
     "data": {
      "image/png": "[encoded data removed]",
      "text/plain": [
       "<matplotlib.figure.Figure at 0x1177fd978>"
      ]
     },
     "metadata": {},
     "output_type": "display_data"
    }
   ],
   "source": [
    "fig, axList = plt.subplots(nrows=2, ncols=2)\n",
    "axList = axList.flatten()\n",
    "fig.set_size_inches(12, 10)\n",
    "\n",
    "axList[-1].axis('off')\n",
    "\n",
    "for ax,lab in zip(axList[:-1], coeff_labels):\n",
    "    sns.heatmap(cm[lab], ax=ax, annot=True, fmt='d');\n",
    "    ax.set(title=lab);\n",
    "    \n",
    "plt.tight_layout()"
   ]
  },
  {
   "cell_type": "code",
   "execution_count": null,
   "metadata": {
    "collapsed": true
   },
   "outputs": [],
   "source": []
  }
 ],
 "metadata": {
  "kernelspec": {
   "display_name": "Python 3",
   "language": "python",
   "name": "python3"
  },
  "language_info": {
   "codemirror_mode": {
    "name": "ipython",
    "version": 3
   },
   "file_extension": ".py",
   "mimetype": "text/x-python",
   "name": "python",
   "nbconvert_exporter": "python",
   "pygments_lexer": "ipython3",
   "version": "3.6.0"
  }
 },
 "nbformat": 4,
 "nbformat_minor": 2
}
