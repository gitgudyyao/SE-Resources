{
 "cells": [
  {
   "cell_type": "markdown",
   "metadata": {},
   "source": [
    "## Handwritten Image Detection with Keras using MNIST data\n",
    "\n",
    "In this exercise we will work with image data: specifically the famous MNIST data set.  This data set contains 70,000 images of handwritten digits in grayscale (0=black, 255 = white).  The images are 28 pixels by 28 pixels for a total of 784 pixels.  This is quite small by image standards.  Also, the images are well centered and isolated.  This makes this problem solvable with standard fully connected neural nets without too much pre-work."
   ]
  },
  {
   "cell_type": "markdown",
   "metadata": {},
   "source": [
    "In the first part of this notebook, we will walk you through loading in the data, building a network, and training it.  Then it will be your turn to try different models and see if you can improve performance"
   ]
  },
  {
   "cell_type": "code",
   "execution_count": 1,
   "metadata": {},
   "outputs": [
    {
     "name": "stderr",
     "output_type": "stream",
     "text": [
      "Using TensorFlow backend.\n"
     ]
    }
   ],
   "source": [
    "# Preliminaries\n",
    "\n",
    "from __future__ import print_function\n",
    "\n",
    "import keras\n",
    "from keras.datasets import mnist\n",
    "from keras.models import Sequential\n",
    "from keras.layers import Dense, Dropout\n",
    "from keras.optimizers import RMSprop\n",
    "\n",
    "import numpy as np\n",
    "import matplotlib.pyplot as plt\n",
    "%matplotlib inline"
   ]
  },
  {
   "cell_type": "markdown",
   "metadata": {
    "collapsed": true
   },
   "source": [
    "Let's explore the dataset a little bit"
   ]
  },
  {
   "cell_type": "code",
   "execution_count": 2,
   "metadata": {},
   "outputs": [],
   "source": [
    "# Load the data, shuffled and split between train and test sets\n",
    "(x_train, y_train), (x_test, y_test) = mnist.load_data()"
   ]
  },
  {
   "cell_type": "code",
   "execution_count": 3,
   "metadata": {},
   "outputs": [
    {
     "data": {
      "text/plain": [
       "(28, 28)"
      ]
     },
     "execution_count": 3,
     "metadata": {},
     "output_type": "execute_result"
    }
   ],
   "source": [
    "x_train[0].shape"
   ]
  },
  {
   "cell_type": "code",
   "execution_count": 4,
   "metadata": {},
   "outputs": [
    {
     "data": {
      "text/plain": [
       "array([[  0,   0,   0,   0,   0,   0,   0,   0,   0,   0,   0,   0,   0,\n",
       "          0,   0,   0,   0,   0,   0,   0,   0,   0,   0,   0,   0,   0,\n",
       "          0,   0],\n",
       "       [  0,   0,   0,   0,   0,   0,   0,   0,   0,   0,   0,   0,   0,\n",
       "          0,   0,   0,   0,   0,   0,   0,   0,   0,   0,   0,   0,   0,\n",
       "          0,   0],\n",
       "       [  0,   0,   0,   0,   0,   0,   0,   0,   0,   0,   0,   0,   0,\n",
       "          0,   0,   0,   0,   0,   0,   0,   0,   0,   0,   0,   0,   0,\n",
       "          0,   0],\n",
       "       [  0,   0,   0,   0,   0,   0,   0,   0,   0,   0,   0,   0,   0,\n",
       "          0,   0,   0,   0,   0,   0,   0,   0,   0,   0,   0,   0,   0,\n",
       "          0,   0],\n",
       "       [  0,   0,   0,   0,   0,   0,   0,   0,   0,   0,   0,   0,   0,\n",
       "          0,   0,   0,   0,   0,   0,   0,   0,   0,   0,   0,   0,   0,\n",
       "          0,   0],\n",
       "       [  0,   0,   0,   0,   0,   0,   0,   0,   0,   0,   0,  87, 138,\n",
       "        170, 253, 201, 244, 212, 222, 138,  86,  22,   0,   0,   0,   0,\n",
       "          0,   0],\n",
       "       [  0,   0,   0,   0,   0,   0,   0,   0,   0,   0,  95, 253, 252,\n",
       "        252, 252, 252, 253, 252, 252, 252, 252, 245,  80,   0,   0,   0,\n",
       "          0,   0],\n",
       "       [  0,   0,   0,   0,   0,   0,   0,   0,   0,  68, 246, 205,  69,\n",
       "         69,  69,  69,  69,  69,  69,  69, 205, 253, 240,  50,   0,   0,\n",
       "          0,   0],\n",
       "       [  0,   0,   0,   0,   0,   0,   0,   0,   0, 187, 252, 218,  34,\n",
       "          0,   0,   0,   0,   0,   0,   0, 116, 253, 252,  69,   0,   0,\n",
       "          0,   0],\n",
       "       [  0,   0,   0,   0,   0,   0,   0,   0, 116, 248, 252, 253,  92,\n",
       "          0,   0,   0,   0,   0,   0,  95, 230, 253, 157,   6,   0,   0,\n",
       "          0,   0],\n",
       "       [  0,   0,   0,   0,   0,   0,   0,   0, 116, 249, 253, 189,  42,\n",
       "          0,   0,   0,   0,  36, 170, 253, 243, 158,   0,   0,   0,   0,\n",
       "          0,   0],\n",
       "       [  0,   0,   0,   0,   0,   0,   0,   0,   0, 133, 252, 245, 140,\n",
       "         34,   0,   0,  57, 219, 252, 235,  60,   0,   0,   0,   0,   0,\n",
       "          0,   0],\n",
       "       [  0,   0,   0,   0,   0,   0,   0,   0,   0,  25, 205, 253, 252,\n",
       "        234, 184, 184, 253, 240, 100,  44,   0,   0,   0,   0,   0,   0,\n",
       "          0,   0],\n",
       "       [  0,   0,   0,   0,   0,   0,   0,   0,   0,   0,  21, 161, 219,\n",
       "        252, 252, 252, 234,  37,   0,   0,   0,   0,   0,   0,   0,   0,\n",
       "          0,   0],\n",
       "       [  0,   0,   0,   0,   0,   0,   0,   0,   0,   0,   0,  11, 203,\n",
       "        252, 252, 252, 251, 135,   0,   0,   0,   0,   0,   0,   0,   0,\n",
       "          0,   0],\n",
       "       [  0,   0,   0,   0,   0,   0,   0,   0,   0,   9,  76, 255, 253,\n",
       "        205, 168, 220, 255, 253, 137,   5,   0,   0,   0,   0,   0,   0,\n",
       "          0,   0],\n",
       "       [  0,   0,   0,   0,   0,   0,   0,   0,   0, 114, 252, 249, 132,\n",
       "         25,   0,   0, 180, 252, 252,  45,   0,   0,   0,   0,   0,   0,\n",
       "          0,   0],\n",
       "       [  0,   0,   0,   0,   0,   0,   0,   0,  51, 220, 252, 199,   0,\n",
       "          0,   0,   0,  38, 186, 252, 154,   7,   0,   0,   0,   0,   0,\n",
       "          0,   0],\n",
       "       [  0,   0,   0,   0,   0,   0,   0,   0, 184, 252, 252,  21,   0,\n",
       "          0,   0,   0,   0,  67, 252, 252,  22,   0,   0,   0,   0,   0,\n",
       "          0,   0],\n",
       "       [  0,   0,   0,   0,   0,   0,   0,   0, 184, 252, 200,   0,   0,\n",
       "          0,   0,   0,   0,  47, 252, 252,  22,   0,   0,   0,   0,   0,\n",
       "          0,   0],\n",
       "       [  0,   0,   0,   0,   0,   0,   0,   0, 185, 253, 201,   0,   0,\n",
       "          0,   0,   0,   3, 118, 253, 245,  21,   0,   0,   0,   0,   0,\n",
       "          0,   0],\n",
       "       [  0,   0,   0,   0,   0,   0,   0,   0, 163, 252, 252,   0,   0,\n",
       "          0,   0,   0,  97, 252, 252,  87,   0,   0,   0,   0,   0,   0,\n",
       "          0,   0],\n",
       "       [  0,   0,   0,   0,   0,   0,   0,   0,  51, 240, 252, 123,  70,\n",
       "         70, 112, 184, 222, 252, 170,  13,   0,   0,   0,   0,   0,   0,\n",
       "          0,   0],\n",
       "       [  0,   0,   0,   0,   0,   0,   0,   0,   0, 165, 252, 253, 252,\n",
       "        252, 252, 252, 245, 139,  13,   0,   0,   0,   0,   0,   0,   0,\n",
       "          0,   0],\n",
       "       [  0,   0,   0,   0,   0,   0,   0,   0,   0,   9,  75, 253, 252,\n",
       "        221, 137, 137,  21,   0,   0,   0,   0,   0,   0,   0,   0,   0,\n",
       "          0,   0],\n",
       "       [  0,   0,   0,   0,   0,   0,   0,   0,   0,   0,   0,   0,   0,\n",
       "          0,   0,   0,   0,   0,   0,   0,   0,   0,   0,   0,   0,   0,\n",
       "          0,   0],\n",
       "       [  0,   0,   0,   0,   0,   0,   0,   0,   0,   0,   0,   0,   0,\n",
       "          0,   0,   0,   0,   0,   0,   0,   0,   0,   0,   0,   0,   0,\n",
       "          0,   0],\n",
       "       [  0,   0,   0,   0,   0,   0,   0,   0,   0,   0,   0,   0,   0,\n",
       "          0,   0,   0,   0,   0,   0,   0,   0,   0,   0,   0,   0,   0,\n",
       "          0,   0]], dtype=uint8)"
      ]
     },
     "execution_count": 4,
     "metadata": {},
     "output_type": "execute_result"
    }
   ],
   "source": [
    "#Let's just look at a particular example to see what is inside\n",
    "\n",
    "x_train[333]  ## Just a 28 x 28 numpy array of ints from 0 to 255"
   ]
  },
  {
   "cell_type": "code",
   "execution_count": 5,
   "metadata": {},
   "outputs": [
    {
     "data": {
      "text/plain": [
       "8"
      ]
     },
     "execution_count": 5,
     "metadata": {},
     "output_type": "execute_result"
    }
   ],
   "source": [
    "# What is the corresponding label in the training set?\n",
    "y_train[333]"
   ]
  },
  {
   "cell_type": "code",
   "execution_count": 6,
   "metadata": {},
   "outputs": [
    {
     "data": {
      "text/plain": [
       "<matplotlib.image.AxesImage at 0x7f850e17deb8>"
      ]
     },
     "execution_count": 6,
     "metadata": {},
     "output_type": "execute_result"
    },
    {
     "data": {
      "image/png": "[encoded data removed]",
      "text/plain": [
       "<Figure size 432x288 with 1 Axes>"
      ]
     },
     "metadata": {
      "needs_background": "light"
     },
     "output_type": "display_data"
    }
   ],
   "source": [
    "# Let's see what this image actually looks like\n",
    "\n",
    "plt.imshow(x_train[333], cmap='Greys_r')"
   ]
  },
  {
   "cell_type": "code",
   "execution_count": 7,
   "metadata": {},
   "outputs": [
    {
     "name": "stdout",
     "output_type": "stream",
     "text": [
      "(60000, 28, 28) train samples\n",
      "(10000, 28, 28) test samples\n"
     ]
    }
   ],
   "source": [
    "# this is the shape of the np.array x_train\n",
    "# it is 3 dimensional.\n",
    "print(x_train.shape, 'train samples')\n",
    "print(x_test.shape, 'test samples')"
   ]
  },
  {
   "cell_type": "code",
   "execution_count": 8,
   "metadata": {},
   "outputs": [],
   "source": [
    "## For our purposes, these images are just a vector of 784 inputs, so let's convert\n",
    "x_train = x_train.reshape(len(x_train), 28*28)\n",
    "x_test = x_test.reshape(len(x_test), 28*28)\n",
    "\n",
    "## Keras works with floats, so we must cast the numbers to floats\n",
    "x_train = x_train.astype('float32')\n",
    "x_test = x_test.astype('float32')\n",
    "\n",
    "## Normalize the inputs so they are between 0 and 1\n",
    "x_train /= 255\n",
    "x_test /= 255\n"
   ]
  },
  {
   "cell_type": "code",
   "execution_count": 9,
   "metadata": {},
   "outputs": [
    {
     "data": {
      "text/plain": [
       "array([0., 0., 0., 0., 0., 0., 0., 0., 1., 0.], dtype=float32)"
      ]
     },
     "execution_count": 9,
     "metadata": {},
     "output_type": "execute_result"
    }
   ],
   "source": [
    "# convert class vectors to binary class matrices\n",
    "num_classes = 10\n",
    "y_train = keras.utils.to_categorical(y_train, num_classes)\n",
    "y_test = keras.utils.to_categorical(y_test, num_classes)\n",
    "\n",
    "y_train[333]  # now the digit k is represented by a 1 in the kth entry (0-indexed) of the length 10 vector"
   ]
  },
  {
   "cell_type": "code",
   "execution_count": 10,
   "metadata": {},
   "outputs": [
    {
     "name": "stdout",
     "output_type": "stream",
     "text": [
      "WARNING:tensorflow:From /home/ngoonee/anaconda3/envs/ai/lib/python3.7/site-packages/tensorflow/python/framework/op_def_library.py:263: colocate_with (from tensorflow.python.framework.ops) is deprecated and will be removed in a future version.\n",
      "Instructions for updating:\n",
      "Colocations handled automatically by placer.\n",
      "WARNING:tensorflow:From /home/ngoonee/anaconda3/envs/ai/lib/python3.7/site-packages/keras/backend/tensorflow_backend.py:3445: calling dropout (from tensorflow.python.ops.nn_ops) with keep_prob is deprecated and will be removed in a future version.\n",
      "Instructions for updating:\n",
      "Please use `rate` instead of `keep_prob`. Rate should be set to `rate = 1 - keep_prob`.\n"
     ]
    }
   ],
   "source": [
    "# We will build a model with two hidden layers of size 512\n",
    "# Fully connected inputs at each layer\n",
    "# We will use dropout of .2 to help regularize\n",
    "model_1 = Sequential()\n",
    "model_1.add(Dense(64, activation='relu', input_shape=(784,)))\n",
    "model_1.add(Dropout(0.2))\n",
    "model_1.add(Dense(64, activation='relu'))\n",
    "model_1.add(Dropout(0.2))\n",
    "model_1.add(Dense(10, activation='softmax'))"
   ]
  },
  {
   "cell_type": "code",
   "execution_count": 11,
   "metadata": {},
   "outputs": [
    {
     "name": "stdout",
     "output_type": "stream",
     "text": [
      "_________________________________________________________________\n",
      "Layer (type)                 Output Shape              Param #   \n",
      "=================================================================\n",
      "dense_1 (Dense)              (None, 64)                50240     \n",
      "_________________________________________________________________\n",
      "dropout_1 (Dropout)          (None, 64)                0         \n",
      "_________________________________________________________________\n",
      "dense_2 (Dense)              (None, 64)                4160      \n",
      "_________________________________________________________________\n",
      "dropout_2 (Dropout)          (None, 64)                0         \n",
      "_________________________________________________________________\n",
      "dense_3 (Dense)              (None, 10)                650       \n",
      "=================================================================\n",
      "Total params: 55,050\n",
      "Trainable params: 55,050\n",
      "Non-trainable params: 0\n",
      "_________________________________________________________________\n"
     ]
    }
   ],
   "source": [
    "## Note that this model has a LOT of parameters\n",
    "model_1.summary()"
   ]
  },
  {
   "cell_type": "code",
   "execution_count": 12,
   "metadata": {},
   "outputs": [],
   "source": [
    "# Let's compile the model\n",
    "learning_rate = .001\n",
    "model_1.compile(loss='categorical_crossentropy',\n",
    "              optimizer=RMSprop(lr=learning_rate),\n",
    "              metrics=['accuracy'])\n",
    "# note that `categorical cross entropy` is the natural generalization \n",
    "# of the loss function we had in binary classification case, to multi class case"
   ]
  },
  {
   "cell_type": "code",
   "execution_count": 13,
   "metadata": {},
   "outputs": [
    {
     "name": "stdout",
     "output_type": "stream",
     "text": [
      "WARNING:tensorflow:From /home/ngoonee/anaconda3/envs/ai/lib/python3.7/site-packages/tensorflow/python/ops/math_ops.py:3066: to_int32 (from tensorflow.python.ops.math_ops) is deprecated and will be removed in a future version.\n",
      "Instructions for updating:\n",
      "Use tf.cast instead.\n",
      "Train on 60000 samples, validate on 10000 samples\n",
      "Epoch 1/30\n",
      "60000/60000 [==============================] - 2s 29us/step - loss: 0.5022 - acc: 0.8514 - val_loss: 0.2044 - val_acc: 0.9380\n",
      "Epoch 2/30\n",
      "60000/60000 [==============================] - 2s 27us/step - loss: 0.2480 - acc: 0.9268 - val_loss: 0.1587 - val_acc: 0.9518\n",
      "Epoch 3/30\n",
      "60000/60000 [==============================] - 2s 25us/step - loss: 0.2045 - acc: 0.9404 - val_loss: 0.1344 - val_acc: 0.9577\n",
      "Epoch 4/30\n",
      "60000/60000 [==============================] - 2s 26us/step - loss: 0.1744 - acc: 0.9492 - val_loss: 0.1257 - val_acc: 0.9615\n",
      "Epoch 5/30\n",
      "60000/60000 [==============================] - 2s 26us/step - loss: 0.1588 - acc: 0.9537 - val_loss: 0.1225 - val_acc: 0.9611\n",
      "Epoch 6/30\n",
      "60000/60000 [==============================] - 2s 26us/step - loss: 0.1444 - acc: 0.9580 - val_loss: 0.1137 - val_acc: 0.9658\n",
      "Epoch 7/30\n",
      "60000/60000 [==============================] - 2s 26us/step - loss: 0.1401 - acc: 0.9594 - val_loss: 0.1094 - val_acc: 0.9689\n",
      "Epoch 8/30\n",
      "60000/60000 [==============================] - 2s 26us/step - loss: 0.1315 - acc: 0.9606 - val_loss: 0.1054 - val_acc: 0.9696\n",
      "Epoch 9/30\n",
      "60000/60000 [==============================] - 1s 24us/step - loss: 0.1252 - acc: 0.9640 - val_loss: 0.1071 - val_acc: 0.9683\n",
      "Epoch 10/30\n",
      "60000/60000 [==============================] - 2s 26us/step - loss: 0.1188 - acc: 0.9647 - val_loss: 0.1127 - val_acc: 0.9686\n",
      "Epoch 11/30\n",
      "60000/60000 [==============================] - 2s 27us/step - loss: 0.1149 - acc: 0.9659 - val_loss: 0.1052 - val_acc: 0.9711\n",
      "Epoch 12/30\n",
      "60000/60000 [==============================] - 1s 24us/step - loss: 0.1108 - acc: 0.9671 - val_loss: 0.1061 - val_acc: 0.9721\n",
      "Epoch 13/30\n",
      "60000/60000 [==============================] - 1s 25us/step - loss: 0.1086 - acc: 0.9683 - val_loss: 0.1024 - val_acc: 0.9720\n",
      "Epoch 14/30\n",
      "60000/60000 [==============================] - 2s 26us/step - loss: 0.1050 - acc: 0.9689 - val_loss: 0.1111 - val_acc: 0.9706\n",
      "Epoch 15/30\n",
      "60000/60000 [==============================] - 2s 25us/step - loss: 0.1023 - acc: 0.9704 - val_loss: 0.1061 - val_acc: 0.9731\n",
      "Epoch 16/30\n",
      "60000/60000 [==============================] - 2s 26us/step - loss: 0.1018 - acc: 0.9711 - val_loss: 0.1068 - val_acc: 0.9716\n",
      "Epoch 17/30\n",
      "60000/60000 [==============================] - 2s 26us/step - loss: 0.1005 - acc: 0.9706 - val_loss: 0.1078 - val_acc: 0.9741\n",
      "Epoch 18/30\n",
      "60000/60000 [==============================] - 1s 25us/step - loss: 0.0957 - acc: 0.9726 - val_loss: 0.1041 - val_acc: 0.9745\n",
      "Epoch 19/30\n",
      "60000/60000 [==============================] - 2s 26us/step - loss: 0.0967 - acc: 0.9721 - val_loss: 0.1013 - val_acc: 0.9758\n",
      "Epoch 20/30\n",
      "60000/60000 [==============================] - 2s 26us/step - loss: 0.0938 - acc: 0.9727 - val_loss: 0.1074 - val_acc: 0.9740\n",
      "Epoch 21/30\n",
      "60000/60000 [==============================] - 2s 26us/step - loss: 0.0935 - acc: 0.9732 - val_loss: 0.1124 - val_acc: 0.9736\n",
      "Epoch 22/30\n",
      "60000/60000 [==============================] - 1s 24us/step - loss: 0.0929 - acc: 0.9737 - val_loss: 0.1082 - val_acc: 0.9752\n",
      "Epoch 23/30\n",
      "60000/60000 [==============================] - 2s 26us/step - loss: 0.0883 - acc: 0.9743 - val_loss: 0.1095 - val_acc: 0.9737\n",
      "Epoch 24/30\n",
      "60000/60000 [==============================] - 2s 27us/step - loss: 0.0897 - acc: 0.9739 - val_loss: 0.1067 - val_acc: 0.9743\n",
      "Epoch 25/30\n",
      "60000/60000 [==============================] - 2s 25us/step - loss: 0.0882 - acc: 0.9745 - val_loss: 0.1069 - val_acc: 0.9747\n",
      "Epoch 26/30\n",
      "60000/60000 [==============================] - 1s 24us/step - loss: 0.0912 - acc: 0.9739 - val_loss: 0.1085 - val_acc: 0.9748\n",
      "Epoch 27/30\n",
      "60000/60000 [==============================] - 2s 26us/step - loss: 0.0859 - acc: 0.9752 - val_loss: 0.1093 - val_acc: 0.9744\n",
      "Epoch 28/30\n",
      "60000/60000 [==============================] - 2s 26us/step - loss: 0.0861 - acc: 0.9755 - val_loss: 0.1081 - val_acc: 0.9752\n",
      "Epoch 29/30\n",
      "60000/60000 [==============================] - 2s 26us/step - loss: 0.0865 - acc: 0.9752 - val_loss: 0.1162 - val_acc: 0.9743\n",
      "Epoch 30/30\n",
      "60000/60000 [==============================] - 1s 24us/step - loss: 0.0830 - acc: 0.9753 - val_loss: 0.1162 - val_acc: 0.9746\n"
     ]
    }
   ],
   "source": [
    "# And now let's fit.\n",
    "\n",
    "batch_size = 128  # mini-batch with 128 examples\n",
    "epochs = 30\n",
    "history = model_1.fit(\n",
    "    x_train, y_train,\n",
    "    batch_size=batch_size,\n",
    "    epochs=epochs,\n",
    "    verbose=1,\n",
    "    validation_data=(x_test, y_test))"
   ]
  },
  {
   "cell_type": "code",
   "execution_count": 14,
   "metadata": {},
   "outputs": [
    {
     "name": "stdout",
     "output_type": "stream",
     "text": [
      "Test loss: 0.11615084931372621\n",
      "Test accuracy: 0.9746\n"
     ]
    }
   ],
   "source": [
    "## We will use Keras evaluate function to evaluate performance on the test set\n",
    "\n",
    "score = model_1.evaluate(x_test, y_test, verbose=0)\n",
    "print('Test loss:', score[0])\n",
    "print('Test accuracy:', score[1])"
   ]
  },
  {
   "cell_type": "code",
   "execution_count": 15,
   "metadata": {},
   "outputs": [
    {
     "data": {
      "image/png": "[encoded data removed]",
      "text/plain": [
       "<Figure size 864x432 with 2 Axes>"
      ]
     },
     "metadata": {
      "needs_background": "light"
     },
     "output_type": "display_data"
    }
   ],
   "source": [
    "def plot_loss_accuracy(history):\n",
    "    fig = plt.figure(figsize=(12, 6))\n",
    "    ax = fig.add_subplot(1, 2, 1)\n",
    "    ax.plot(history.history[\"loss\"],'r-x', label=\"Train Loss\")\n",
    "    ax.plot(history.history[\"val_loss\"],'b-x', label=\"Validation Loss\")\n",
    "    ax.legend()\n",
    "    ax.set_title('cross_entropy loss')\n",
    "    ax.grid(True)\n",
    "\n",
    "\n",
    "    ax = fig.add_subplot(1, 2, 2)\n",
    "    ax.plot(history.history[\"acc\"],'r-x', label=\"Train Accuracy\")\n",
    "    ax.plot(history.history[\"val_acc\"],'b-x', label=\"Validation Accuracy\")\n",
    "    ax.legend()\n",
    "    ax.set_title('accuracy')\n",
    "    ax.grid(True)\n",
    "    \n",
    "\n",
    "plot_loss_accuracy(history)"
   ]
  },
  {
   "cell_type": "markdown",
   "metadata": {},
   "source": [
    "This is reasonably good performance, but we can do even better!  Next you will build an even bigger network and compare the performance."
   ]
  },
  {
   "cell_type": "markdown",
   "metadata": {},
   "source": [
    "## Exercise\n",
    "### Your Turn: Build your own model\n",
    "Use the Keras \"Sequential\" functionality to build `model_2` with the following specifications:\n",
    "\n",
    "1. Two hidden layers.\n",
    "2. First hidden layer of size 400 and second of size 300\n",
    "3. Dropout of .4 at each layer\n",
    "4. How many parameters does your model have?  How does it compare with the previous model?\n",
    "4. Train this model for 20 epochs with RMSProp at a learning rate of .001 and a batch size of 128\n",
    "\n",
    "\n"
   ]
  },
  {
   "cell_type": "code",
   "execution_count": 16,
   "metadata": {},
   "outputs": [],
   "source": [
    "### Build your model here\n"
   ]
  },
  {
   "cell_type": "code",
   "execution_count": null,
   "metadata": {},
   "outputs": [],
   "source": []
  },
  {
   "cell_type": "code",
   "execution_count": null,
   "metadata": {},
   "outputs": [],
   "source": []
  },
  {
   "cell_type": "code",
   "execution_count": null,
   "metadata": {},
   "outputs": [],
   "source": []
  },
  {
   "cell_type": "markdown",
   "metadata": {},
   "source": [
    "## SOLUTION"
   ]
  },
  {
   "cell_type": "code",
   "execution_count": 17,
   "metadata": {},
   "outputs": [
    {
     "name": "stdout",
     "output_type": "stream",
     "text": [
      "_________________________________________________________________\n",
      "Layer (type)                 Output Shape              Param #   \n",
      "=================================================================\n",
      "dense_4 (Dense)              (None, 400)               314000    \n",
      "_________________________________________________________________\n",
      "dropout_3 (Dropout)          (None, 400)               0         \n",
      "_________________________________________________________________\n",
      "dense_5 (Dense)              (None, 300)               120300    \n",
      "_________________________________________________________________\n",
      "dropout_4 (Dropout)          (None, 300)               0         \n",
      "_________________________________________________________________\n",
      "dense_6 (Dense)              (None, 10)                3010      \n",
      "=================================================================\n",
      "Total params: 437,310\n",
      "Trainable params: 437,310\n",
      "Non-trainable params: 0\n",
      "_________________________________________________________________\n"
     ]
    }
   ],
   "source": [
    "model_2 = Sequential()\n",
    "model_2.add(Dense(400, activation='relu', input_shape=(784,)))\n",
    "model_2.add(Dropout(0.4))\n",
    "model_2.add(Dense(300, activation='relu', input_shape=(784,)))\n",
    "model_2.add(Dropout(0.4))\n",
    "model_2.add(Dense(10, activation='softmax'))\n",
    "\n",
    "model_2.summary()"
   ]
  },
  {
   "cell_type": "code",
   "execution_count": 18,
   "metadata": {},
   "outputs": [
    {
     "name": "stdout",
     "output_type": "stream",
     "text": [
      "Train on 60000 samples, validate on 10000 samples\n",
      "Epoch 1/20\n",
      "60000/60000 [==============================] - 5s 81us/step - loss: 0.3236 - acc: 0.9014 - val_loss: 0.1235 - val_acc: 0.9615\n",
      "Epoch 2/20\n",
      "60000/60000 [==============================] - 5s 79us/step - loss: 0.1513 - acc: 0.9542 - val_loss: 0.0987 - val_acc: 0.9703\n",
      "Epoch 3/20\n",
      "60000/60000 [==============================] - 5s 82us/step - loss: 0.1189 - acc: 0.9648 - val_loss: 0.0920 - val_acc: 0.9744\n",
      "Epoch 4/20\n",
      "60000/60000 [==============================] - 5s 90us/step - loss: 0.1016 - acc: 0.9709 - val_loss: 0.0837 - val_acc: 0.9783\n",
      "Epoch 5/20\n",
      "60000/60000 [==============================] - 5s 87us/step - loss: 0.0929 - acc: 0.9736 - val_loss: 0.0811 - val_acc: 0.9778\n",
      "Epoch 6/20\n",
      "60000/60000 [==============================] - 5s 86us/step - loss: 0.0844 - acc: 0.9761 - val_loss: 0.0763 - val_acc: 0.9811\n",
      "Epoch 7/20\n",
      "60000/60000 [==============================] - 5s 85us/step - loss: 0.0779 - acc: 0.9781 - val_loss: 0.0850 - val_acc: 0.9794\n",
      "Epoch 8/20\n",
      "60000/60000 [==============================] - 5s 83us/step - loss: 0.0771 - acc: 0.9778 - val_loss: 0.0832 - val_acc: 0.9794\n",
      "Epoch 9/20\n",
      "60000/60000 [==============================] - 5s 82us/step - loss: 0.0707 - acc: 0.9804 - val_loss: 0.0859 - val_acc: 0.9785\n",
      "Epoch 10/20\n",
      "60000/60000 [==============================] - 5s 91us/step - loss: 0.0676 - acc: 0.9815 - val_loss: 0.0835 - val_acc: 0.9800\n",
      "Epoch 11/20\n",
      "60000/60000 [==============================] - 6s 96us/step - loss: 0.0633 - acc: 0.9825 - val_loss: 0.0856 - val_acc: 0.9803\n",
      "Epoch 12/20\n",
      "60000/60000 [==============================] - 5s 84us/step - loss: 0.0646 - acc: 0.9823 - val_loss: 0.0890 - val_acc: 0.9818\n",
      "Epoch 13/20\n",
      "60000/60000 [==============================] - 6s 94us/step - loss: 0.0604 - acc: 0.9843 - val_loss: 0.0824 - val_acc: 0.9824\n",
      "Epoch 14/20\n",
      "60000/60000 [==============================] - 5s 87us/step - loss: 0.0586 - acc: 0.9848 - val_loss: 0.0911 - val_acc: 0.9814\n",
      "Epoch 15/20\n",
      "60000/60000 [==============================] - 7s 114us/step - loss: 0.0562 - acc: 0.9846 - val_loss: 0.0945 - val_acc: 0.9824\n",
      "Epoch 16/20\n",
      "60000/60000 [==============================] - 7s 116us/step - loss: 0.0590 - acc: 0.9854 - val_loss: 0.0957 - val_acc: 0.9807\n",
      "Epoch 17/20\n",
      "60000/60000 [==============================] - 6s 101us/step - loss: 0.0569 - acc: 0.9855 - val_loss: 0.1012 - val_acc: 0.9810\n",
      "Epoch 18/20\n",
      "60000/60000 [==============================] - 6s 93us/step - loss: 0.0553 - acc: 0.9865 - val_loss: 0.0986 - val_acc: 0.9833\n",
      "Epoch 19/20\n",
      "60000/60000 [==============================] - 5s 84us/step - loss: 0.0531 - acc: 0.9868 - val_loss: 0.0940 - val_acc: 0.9829\n",
      "Epoch 20/20\n",
      "60000/60000 [==============================] - 5s 86us/step - loss: 0.0504 - acc: 0.9870 - val_loss: 0.1117 - val_acc: 0.9798\n",
      "\n",
      "Test loss: 0.11173646438661416\n",
      "Test accuracy: 0.9798\n"
     ]
    }
   ],
   "source": [
    "batch_size = 128\n",
    "epochs = 20\n",
    "learning_rate = .001\n",
    "\n",
    "\n",
    "model_2.compile(loss='categorical_crossentropy',\n",
    "              optimizer=RMSprop(lr = learning_rate),\n",
    "              metrics=['accuracy'])\n",
    "\n",
    "history = model_2.fit(x_train, y_train,\n",
    "                    batch_size=batch_size,\n",
    "                    epochs=epochs,\n",
    "                    verbose=1,\n",
    "                    validation_data=(x_test, y_test))\n",
    "score = model_2.evaluate(x_test, y_test, verbose=0)\n",
    "print('')\n",
    "print('Test loss:', score[0])\n",
    "print('Test accuracy:', score[1])"
   ]
  },
  {
   "cell_type": "code",
   "execution_count": 19,
   "metadata": {},
   "outputs": [
    {
     "data": {
      "image/png": "[encoded data removed]",
      "text/plain": [
       "<Figure size 864x432 with 2 Axes>"
      ]
     },
     "metadata": {
      "needs_background": "light"
     },
     "output_type": "display_data"
    }
   ],
   "source": [
    "plot_loss_accuracy(history)"
   ]
  },
  {
   "cell_type": "markdown",
   "metadata": {
    "collapsed": true
   },
   "source": [
    "## Think about the following questions\n",
    "\n",
    "1) How do model_1 and model_2 compare?  Which do you prefer?  If you were going to put one into production, which would you choose and why?\n",
    "\n",
    "2) Compare the trajectories of the loss function on the training set and test set for each model?  How do they compare?  What does that suggest about each model?  Do the same for accuracy?  Which do you think is more meaningful, the loss or the accuracy?\n",
    "\n",
    "3) Suggest an improvement to one of the models (changing structure, learning rate, number of epochs, etc.) that you think will result in a better model.  Try it out below?  Did it improve the performance?"
   ]
  },
  {
   "cell_type": "code",
   "execution_count": 20,
   "metadata": {},
   "outputs": [],
   "source": [
    "model_3 = Sequential()\n",
    "model_3.add(Dense(400, activation='relu', input_shape=(784,)))\n",
    "model_3.add(Dropout(0.1))\n",
    "model_3.add(Dense(300, activation='relu', input_shape=(784,)))\n",
    "model_3.add(Dropout(0.1))\n",
    "model_3.add(Dense(10, activation='softmax'))"
   ]
  },
  {
   "cell_type": "code",
   "execution_count": 21,
   "metadata": {},
   "outputs": [
    {
     "name": "stdout",
     "output_type": "stream",
     "text": [
      "Train on 60000 samples, validate on 10000 samples\n",
      "Epoch 1/25\n",
      "60000/60000 [==============================] - 6s 99us/step - loss: 0.6000 - acc: 0.8460 - val_loss: 0.2632 - val_acc: 0.9250\n",
      "Epoch 2/25\n",
      "60000/60000 [==============================] - 6s 104us/step - loss: 0.2597 - acc: 0.9250 - val_loss: 0.1970 - val_acc: 0.9437\n",
      "Epoch 3/25\n",
      "60000/60000 [==============================] - 6s 101us/step - loss: 0.1995 - acc: 0.9421 - val_loss: 0.1577 - val_acc: 0.9550\n",
      "Epoch 4/25\n",
      "60000/60000 [==============================] - 6s 97us/step - loss: 0.1625 - acc: 0.9533 - val_loss: 0.1360 - val_acc: 0.9604\n",
      "Epoch 5/25\n",
      "60000/60000 [==============================] - 7s 109us/step - loss: 0.1387 - acc: 0.9593 - val_loss: 0.1198 - val_acc: 0.9635\n",
      "Epoch 6/25\n",
      "60000/60000 [==============================] - 7s 120us/step - loss: 0.1202 - acc: 0.9649 - val_loss: 0.1089 - val_acc: 0.9677\n",
      "Epoch 7/25\n",
      "60000/60000 [==============================] - 5s 83us/step - loss: 0.1062 - acc: 0.9685 - val_loss: 0.0989 - val_acc: 0.9703\n",
      "Epoch 8/25\n",
      "60000/60000 [==============================] - 5s 86us/step - loss: 0.0955 - acc: 0.9716 - val_loss: 0.0924 - val_acc: 0.9725\n",
      "Epoch 9/25\n",
      "60000/60000 [==============================] - 5s 87us/step - loss: 0.0863 - acc: 0.9743 - val_loss: 0.0881 - val_acc: 0.9730\n",
      "Epoch 10/25\n",
      "60000/60000 [==============================] - 5s 86us/step - loss: 0.0771 - acc: 0.9774 - val_loss: 0.0822 - val_acc: 0.9750\n",
      "Epoch 11/25\n",
      "60000/60000 [==============================] - 5s 82us/step - loss: 0.0712 - acc: 0.9793 - val_loss: 0.0781 - val_acc: 0.9759\n",
      "Epoch 12/25\n",
      "60000/60000 [==============================] - 5s 84us/step - loss: 0.0667 - acc: 0.9801 - val_loss: 0.0757 - val_acc: 0.9766\n",
      "Epoch 13/25\n",
      "60000/60000 [==============================] - 5s 81us/step - loss: 0.0598 - acc: 0.9821 - val_loss: 0.0739 - val_acc: 0.9773\n",
      "Epoch 14/25\n",
      "60000/60000 [==============================] - 5s 86us/step - loss: 0.0553 - acc: 0.9836 - val_loss: 0.0709 - val_acc: 0.9778\n",
      "Epoch 15/25\n",
      "60000/60000 [==============================] - 5s 87us/step - loss: 0.0512 - acc: 0.9849 - val_loss: 0.0712 - val_acc: 0.9791\n",
      "Epoch 16/25\n",
      "60000/60000 [==============================] - 5s 83us/step - loss: 0.0474 - acc: 0.9857 - val_loss: 0.0730 - val_acc: 0.9773\n",
      "Epoch 17/25\n",
      "60000/60000 [==============================] - 5s 80us/step - loss: 0.0437 - acc: 0.9871 - val_loss: 0.0682 - val_acc: 0.9795\n",
      "Epoch 18/25\n",
      "60000/60000 [==============================] - 5s 82us/step - loss: 0.0414 - acc: 0.9873 - val_loss: 0.0671 - val_acc: 0.9785\n",
      "Epoch 19/25\n",
      "60000/60000 [==============================] - 5s 82us/step - loss: 0.0383 - acc: 0.9887 - val_loss: 0.0653 - val_acc: 0.9809\n",
      "Epoch 20/25\n",
      "60000/60000 [==============================] - 5s 81us/step - loss: 0.0366 - acc: 0.9892 - val_loss: 0.0634 - val_acc: 0.9813\n",
      "Epoch 21/25\n",
      "60000/60000 [==============================] - 5s 89us/step - loss: 0.0331 - acc: 0.9902 - val_loss: 0.0651 - val_acc: 0.9807\n",
      "Epoch 22/25\n",
      "60000/60000 [==============================] - 7s 117us/step - loss: 0.0320 - acc: 0.9906 - val_loss: 0.0661 - val_acc: 0.9798\n",
      "Epoch 23/25\n",
      "60000/60000 [==============================] - 5s 85us/step - loss: 0.0290 - acc: 0.9916 - val_loss: 0.0631 - val_acc: 0.9815\n",
      "Epoch 24/25\n",
      "60000/60000 [==============================] - 5s 89us/step - loss: 0.0277 - acc: 0.9919 - val_loss: 0.0624 - val_acc: 0.9818\n",
      "Epoch 25/25\n",
      "60000/60000 [==============================] - 6s 102us/step - loss: 0.0254 - acc: 0.9929 - val_loss: 0.0641 - val_acc: 0.9815\n",
      "\n",
      "Test loss: 0.06410152752534487\n",
      "Test accuracy: 0.9815\n"
     ]
    },
    {
     "data": {
      "image/png": "[encoded data removed]",
      "text/plain": [
       "<Figure size 864x432 with 2 Axes>"
      ]
     },
     "metadata": {
      "needs_background": "light"
     },
     "output_type": "display_data"
    }
   ],
   "source": [
    "batch_size = 128\n",
    "epochs = 25\n",
    "learning_rate = .0001\n",
    "\n",
    "\n",
    "model_3.compile(loss='categorical_crossentropy',\n",
    "              optimizer=RMSprop(lr = .0001),\n",
    "              metrics=['accuracy'])\n",
    "\n",
    "history = model_3.fit(x_train, y_train,\n",
    "                    batch_size=batch_size,\n",
    "                    epochs=epochs,\n",
    "                    verbose=1,\n",
    "                    validation_data=(x_test, y_test))\n",
    "score = model_3.evaluate(x_test, y_test, verbose=0)\n",
    "print('')\n",
    "print('Test loss:', score[0])\n",
    "print('Test accuracy:', score[1])\n",
    "plot_loss_accuracy(history)"
   ]
  },
  {
   "cell_type": "code",
   "execution_count": null,
   "metadata": {},
   "outputs": [],
   "source": []
  }
 ],
 "metadata": {
  "kernelspec": {
   "display_name": "Python 3",
   "language": "python",
   "name": "python3"
  },
  "language_info": {
   "codemirror_mode": {
    "name": "ipython",
    "version": 3
   },
   "file_extension": ".py",
   "mimetype": "text/x-python",
   "name": "python",
   "nbconvert_exporter": "python",
   "pygments_lexer": "ipython3",
   "version": "3.7.3"
  }
 },
 "nbformat": 4,
 "nbformat_minor": 1
}
